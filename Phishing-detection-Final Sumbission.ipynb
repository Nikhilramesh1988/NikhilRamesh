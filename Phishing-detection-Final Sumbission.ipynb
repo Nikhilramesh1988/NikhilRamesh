{
 "cells": [
  {
   "cell_type": "code",
   "execution_count": 1,
   "id": "06f758b0",
   "metadata": {},
   "outputs": [
    {
     "name": "stdout",
     "output_type": "stream",
     "text": [
      "C:\\Nikhil\\Analytics Lab\\Phishing data\\8339691\n"
     ]
    }
   ],
   "source": [
    "cd C:\\Nikhil\\Analytics Lab\\Phishing data\\8339691\n"
   ]
  },
  {
   "cell_type": "code",
   "execution_count": 2,
   "id": "98356746",
   "metadata": {},
   "outputs": [],
   "source": [
    "import pandas as pd\n",
    "import numpy as np\n",
    "\n",
    "df1=pd.read_csv('CEAS_08.csv')"
   ]
  },
  {
   "cell_type": "code",
   "execution_count": 3,
   "id": "a2f5b2e9",
   "metadata": {},
   "outputs": [],
   "source": [
    "############# Data loading ############"
   ]
  },
  {
   "cell_type": "code",
   "execution_count": 4,
   "id": "82c9d370",
   "metadata": {},
   "outputs": [],
   "source": [
    "df1=pd.DataFrame(data=df1)\n"
   ]
  },
  {
   "cell_type": "code",
   "execution_count": 5,
   "id": "b2fa4428",
   "metadata": {},
   "outputs": [],
   "source": [
    "df2=pd.read_csv('Enron.csv')\n"
   ]
  },
  {
   "cell_type": "code",
   "execution_count": 6,
   "id": "a9866440",
   "metadata": {},
   "outputs": [],
   "source": [
    "df2=pd.DataFrame(data=df2)\n"
   ]
  },
  {
   "cell_type": "code",
   "execution_count": 7,
   "id": "1bd095a3",
   "metadata": {},
   "outputs": [],
   "source": [
    "df3=pd.read_csv('Ling.csv')\n"
   ]
  },
  {
   "cell_type": "code",
   "execution_count": 8,
   "id": "960761a0",
   "metadata": {},
   "outputs": [],
   "source": [
    "df3=pd.DataFrame(data=df3)\n"
   ]
  },
  {
   "cell_type": "code",
   "execution_count": 9,
   "id": "f1a46fba",
   "metadata": {},
   "outputs": [],
   "source": [
    "df4=pd.read_csv('Nazario.csv')\n"
   ]
  },
  {
   "cell_type": "code",
   "execution_count": 10,
   "id": "2a547945",
   "metadata": {},
   "outputs": [],
   "source": [
    "df4=pd.DataFrame(data=df4)\n"
   ]
  },
  {
   "cell_type": "code",
   "execution_count": 11,
   "id": "f0321dc4",
   "metadata": {
    "scrolled": false
   },
   "outputs": [],
   "source": [
    "df5=pd.read_csv('Nazario_5.csv')\n"
   ]
  },
  {
   "cell_type": "code",
   "execution_count": 12,
   "id": "240fa6a4",
   "metadata": {},
   "outputs": [],
   "source": [
    "df5=pd.DataFrame(data=df5)"
   ]
  },
  {
   "cell_type": "code",
   "execution_count": 13,
   "id": "290bee69",
   "metadata": {},
   "outputs": [],
   "source": [
    "df6=pd.read_csv('Nigerian_Fraud.csv')\n"
   ]
  },
  {
   "cell_type": "code",
   "execution_count": 14,
   "id": "8c927fe4",
   "metadata": {},
   "outputs": [],
   "source": [
    "df6=pd.DataFrame(data=df6)\n"
   ]
  },
  {
   "cell_type": "code",
   "execution_count": 15,
   "id": "5e4405ca",
   "metadata": {},
   "outputs": [],
   "source": [
    "df7=pd.read_csv('SpamAssasin.csv')\n"
   ]
  },
  {
   "cell_type": "code",
   "execution_count": 16,
   "id": "2d54ae40",
   "metadata": {},
   "outputs": [],
   "source": [
    "df7=pd.DataFrame(data=df7)\n",
    "df7 = df7.dropna()\n"
   ]
  },
  {
   "cell_type": "code",
   "execution_count": 17,
   "id": "712021a5",
   "metadata": {},
   "outputs": [],
   "source": [
    "df8=pd.read_csv('TREC_05.csv', lineterminator='\\n')\n"
   ]
  },
  {
   "cell_type": "code",
   "execution_count": 18,
   "id": "51106a50",
   "metadata": {},
   "outputs": [],
   "source": [
    "df8=pd.DataFrame(data=df8)\n",
    "df8 = df8.dropna()\n"
   ]
  },
  {
   "cell_type": "code",
   "execution_count": 19,
   "id": "0d524742",
   "metadata": {},
   "outputs": [],
   "source": [
    "df9=pd.read_csv('TREC_06.csv', lineterminator='\\n')\n"
   ]
  },
  {
   "cell_type": "code",
   "execution_count": 20,
   "id": "087d1519",
   "metadata": {},
   "outputs": [],
   "source": [
    "df9=pd.DataFrame(data=df9)\n",
    "df9 = df9.dropna()\n"
   ]
  },
  {
   "cell_type": "code",
   "execution_count": 21,
   "id": "0b80eaad",
   "metadata": {},
   "outputs": [],
   "source": [
    "df10=pd.read_csv('TREC_07.csv', lineterminator='\\n')\n"
   ]
  },
  {
   "cell_type": "code",
   "execution_count": 22,
   "id": "477a9f51",
   "metadata": {},
   "outputs": [],
   "source": [
    "df10=pd.DataFrame(data=df10)\n",
    "df10 = df10.dropna()\n"
   ]
  },
  {
   "cell_type": "code",
   "execution_count": 23,
   "id": "79069584",
   "metadata": {},
   "outputs": [
    {
     "name": "stdout",
     "output_type": "stream",
     "text": [
      "<class 'pandas.core.frame.DataFrame'>\n",
      "Int64Index: 202697 entries, 0 to 53756\n",
      "Data columns (total 7 columns):\n",
      " #   Column    Non-Null Count   Dtype \n",
      "---  ------    --------------   ----- \n",
      " 0   sender    172597 non-null  object\n",
      " 1   receiver  170935 non-null  object\n",
      " 2   date      172444 non-null  object\n",
      " 3   subject   202378 non-null  object\n",
      " 4   body      202697 non-null  object\n",
      " 5   label     202697 non-null  int64 \n",
      " 6   urls      172930 non-null  object\n",
      "dtypes: int64(1), object(6)\n",
      "memory usage: 12.4+ MB\n"
     ]
    }
   ],
   "source": [
    "dfa=pd.concat([df1,df2,df4,df5,df6,df7,df8,df9,df10])\n",
    "dfa.info()"
   ]
  },
  {
   "cell_type": "code",
   "execution_count": 24,
   "id": "6b26435f",
   "metadata": {},
   "outputs": [],
   "source": [
    "############# Data cleaning############"
   ]
  },
  {
   "cell_type": "code",
   "execution_count": 25,
   "id": "415aae3a",
   "metadata": {},
   "outputs": [
    {
     "data": {
      "text/plain": [
       "sender      30100\n",
       "receiver    31762\n",
       "date        30253\n",
       "subject       319\n",
       "body            0\n",
       "label           0\n",
       "urls        29767\n",
       "dtype: int64"
      ]
     },
     "execution_count": 25,
     "metadata": {},
     "output_type": "execute_result"
    }
   ],
   "source": [
    "dfa.isna().sum()"
   ]
  },
  {
   "cell_type": "code",
   "execution_count": 26,
   "id": "43beac7f",
   "metadata": {},
   "outputs": [
    {
     "name": "stdout",
     "output_type": "stream",
     "text": [
      "<class 'pandas.core.frame.DataFrame'>\n",
      "Int64Index: 170426 entries, 0 to 53756\n",
      "Data columns (total 7 columns):\n",
      " #   Column    Non-Null Count   Dtype \n",
      "---  ------    --------------   ----- \n",
      " 0   sender    170426 non-null  object\n",
      " 1   receiver  170426 non-null  object\n",
      " 2   date      170426 non-null  object\n",
      " 3   subject   170426 non-null  object\n",
      " 4   body      170426 non-null  object\n",
      " 5   label     170426 non-null  int64 \n",
      " 6   urls      170426 non-null  object\n",
      "dtypes: int64(1), object(6)\n",
      "memory usage: 10.4+ MB\n"
     ]
    }
   ],
   "source": [
    "dfa = dfa.dropna()\n",
    "dfa.info()"
   ]
  },
  {
   "cell_type": "code",
   "execution_count": 27,
   "id": "03249158",
   "metadata": {},
   "outputs": [],
   "source": [
    "dfa['urls'].replace(int(0),'URL_Exists',inplace=True)\n",
    "dfa['urls'].replace(int(1),'NO_URL',inplace=True)"
   ]
  },
  {
   "cell_type": "code",
   "execution_count": 28,
   "id": "b7ba34ea",
   "metadata": {},
   "outputs": [],
   "source": [
    "dfa = dfa[['sender', 'receiver', 'date', 'subject','body', 'urls','label']]"
   ]
  },
  {
   "cell_type": "code",
   "execution_count": 29,
   "id": "dce12477",
   "metadata": {
    "scrolled": true
   },
   "outputs": [
    {
     "name": "stdout",
     "output_type": "stream",
     "text": [
      "<class 'pandas.core.frame.DataFrame'>\n",
      "Int64Index: 170426 entries, 0 to 53756\n",
      "Data columns (total 6 columns):\n",
      " #   Column    Non-Null Count   Dtype \n",
      "---  ------    --------------   ----- \n",
      " 0   sender    170426 non-null  object\n",
      " 1   receiver  170426 non-null  object\n",
      " 2   date      170426 non-null  object\n",
      " 3   subject   170426 non-null  object\n",
      " 4   body      170426 non-null  object\n",
      " 5   urls      170426 non-null  object\n",
      "dtypes: object(6)\n",
      "memory usage: 9.1+ MB\n"
     ]
    }
   ],
   "source": [
    "FX=dfa.iloc[:,0:6]\n",
    "FX.info()"
   ]
  },
  {
   "cell_type": "code",
   "execution_count": 30,
   "id": "8e305f7b",
   "metadata": {
    "scrolled": true
   },
   "outputs": [],
   "source": [
    "FX=pd.DataFrame(FX)\n"
   ]
  },
  {
   "cell_type": "code",
   "execution_count": 31,
   "id": "6bf80514",
   "metadata": {},
   "outputs": [
    {
     "data": {
      "text/html": [
       "<div>\n",
       "<style scoped>\n",
       "    .dataframe tbody tr th:only-of-type {\n",
       "        vertical-align: middle;\n",
       "    }\n",
       "\n",
       "    .dataframe tbody tr th {\n",
       "        vertical-align: top;\n",
       "    }\n",
       "\n",
       "    .dataframe thead th {\n",
       "        text-align: right;\n",
       "    }\n",
       "</style>\n",
       "<table border=\"1\" class=\"dataframe\">\n",
       "  <thead>\n",
       "    <tr style=\"text-align: right;\">\n",
       "      <th></th>\n",
       "      <th>sender</th>\n",
       "      <th>receiver</th>\n",
       "      <th>date</th>\n",
       "      <th>subject</th>\n",
       "      <th>body</th>\n",
       "      <th>urls</th>\n",
       "    </tr>\n",
       "  </thead>\n",
       "  <tbody>\n",
       "    <tr>\n",
       "      <th>count</th>\n",
       "      <td>170426</td>\n",
       "      <td>170426</td>\n",
       "      <td>170426</td>\n",
       "      <td>170426</td>\n",
       "      <td>170426</td>\n",
       "      <td>170426</td>\n",
       "    </tr>\n",
       "    <tr>\n",
       "      <th>unique</th>\n",
       "      <td>92051</td>\n",
       "      <td>30575</td>\n",
       "      <td>165299</td>\n",
       "      <td>101791</td>\n",
       "      <td>167763</td>\n",
       "      <td>470</td>\n",
       "    </tr>\n",
       "    <tr>\n",
       "      <th>top</th>\n",
       "      <td>Schedule Crawler &lt;pete.davis@enron.com&gt;</td>\n",
       "      <td>handyboard@media.mit.edu</td>\n",
       "      <td>Tue, 20 Nov 2001 01:12:13 -0500</td>\n",
       "      <td>CNN.com Daily Top 10</td>\n",
       "      <td>\\n\\n</td>\n",
       "      <td>NO_URL</td>\n",
       "    </tr>\n",
       "    <tr>\n",
       "      <th>freq</th>\n",
       "      <td>2058</td>\n",
       "      <td>3507</td>\n",
       "      <td>10</td>\n",
       "      <td>2986</td>\n",
       "      <td>4</td>\n",
       "      <td>91302</td>\n",
       "    </tr>\n",
       "  </tbody>\n",
       "</table>\n",
       "</div>"
      ],
      "text/plain": [
       "                                         sender                  receiver  \\\n",
       "count                                    170426                    170426   \n",
       "unique                                    92051                     30575   \n",
       "top     Schedule Crawler <pete.davis@enron.com>  handyboard@media.mit.edu   \n",
       "freq                                       2058                      3507   \n",
       "\n",
       "                                   date               subject    body    urls  \n",
       "count                            170426                170426  170426  170426  \n",
       "unique                           165299                101791  167763     470  \n",
       "top     Tue, 20 Nov 2001 01:12:13 -0500  CNN.com Daily Top 10    \\n\\n  NO_URL  \n",
       "freq                                 10                  2986       4   91302  "
      ]
     },
     "execution_count": 31,
     "metadata": {},
     "output_type": "execute_result"
    }
   ],
   "source": [
    "FX.describe()"
   ]
  },
  {
   "cell_type": "code",
   "execution_count": 32,
   "id": "4d7fb928",
   "metadata": {},
   "outputs": [],
   "source": [
    "############# Data Visualization ############"
   ]
  },
  {
   "cell_type": "code",
   "execution_count": 33,
   "id": "ad11bf7e",
   "metadata": {
    "scrolled": false
   },
   "outputs": [
    {
     "data": {
      "image/png": "[encoded data removed]",
      "text/plain": [
       "<Figure size 800x600 with 1 Axes>"
      ]
     },
     "metadata": {},
     "output_type": "display_data"
    },
    {
     "data": {
      "image/png": "[encoded data removed]",
      "text/plain": [
       "<Figure size 800x600 with 1 Axes>"
      ]
     },
     "metadata": {},
     "output_type": "display_data"
    }
   ],
   "source": [
    "import matplotlib.pyplot as plt\n",
    "values = [170426,170426,92051,170426,30575]\n",
    "categories = ['Total', 'Sender', 'Unique Sender', 'Receiver', 'Unique Receiver']\n",
    "\n",
    "custom_order = ['Unique Receiver', 'Receiver', 'Unique Sender', 'Sender','Total']\n",
    "\n",
    "# Reorder the categories and values based on the custom order\n",
    "ordered_values = [values[categories.index(cat)] for cat in custom_order]\n",
    "\n",
    "colors = plt.cm.Greens(np.linspace(0.3, 1, len(categories)))\n",
    "# Create a plot\n",
    "plt.figure(figsize=(8, 6))\n",
    "plt.barh(custom_order, ordered_values, color=colors)\n",
    "\n",
    "# Add labels and title\n",
    "\n",
    "plt.xlabel('Counts')\n",
    "plt.ylabel('Features')\n",
    "plt.title('Chart Describing Data Features and Counts')\n",
    "\n",
    "#plt.xticks(rotation=90)\n",
    "\n",
    "# Show the plot\n",
    "plt.show()\n",
    "\n",
    "values = [170426,101791,170426,167763,170426]\n",
    "categories = ['Subject','Unique Subject','Body','Unique Body','URLs']\n",
    "\n",
    "custom_order = ['Unique Subject','Subject','Unique Body','Body','URLs']\n",
    "\n",
    "# Reorder the categories and values based on the custom order\n",
    "ordered_values = [values[categories.index(cat)] for cat in custom_order]\n",
    "\n",
    "\n",
    "colors = plt.cm.Blues(np.linspace(0.3, 1, len(categories)))\n",
    "# Create a plot\n",
    "plt.figure(figsize=(8, 6))\n",
    "plt.barh(custom_order, ordered_values, color=colors)\n",
    "\n",
    "# Add labels and title\n",
    "\n",
    "plt.xlabel('Counts')\n",
    "plt.ylabel('Features')\n",
    "plt.title('Chart Describing Data Features and Counts')\n",
    "\n",
    "#plt.xticks(rotation=90)\n",
    "\n",
    "# Show the plot\n",
    "plt.show()"
   ]
  },
  {
   "cell_type": "code",
   "execution_count": 34,
   "id": "a2187074",
   "metadata": {},
   "outputs": [
    {
     "name": "stdout",
     "output_type": "stream",
     "text": [
      "0    89515\n",
      "1    80911\n",
      "Name: label, dtype: int64\n"
     ]
    },
    {
     "data": {
      "image/png": "[encoded data removed]",
      "text/plain": [
       "<Figure size 800x600 with 1 Axes>"
      ]
     },
     "metadata": {},
     "output_type": "display_data"
    },
    {
     "data": {
      "image/png": "[encoded data removed]",
      "text/plain": [
       "<Figure size 640x480 with 1 Axes>"
      ]
     },
     "metadata": {},
     "output_type": "display_data"
    }
   ],
   "source": [
    "import matplotlib.pyplot as plt\n",
    "\n",
    "email_type_counts = dfa['label'].value_counts()\n",
    "print(email_type_counts)\n",
    "\n",
    "unique_email_types = email_type_counts.index.tolist()\n",
    "\n",
    "categories = ['Safe', 'phishing']\n",
    "\n",
    "\n",
    "colors = ['teal', 'palevioletred']\n",
    "\n",
    "labels = ['Safe', 'phishing'] \n",
    "# Create the bar chart with custom colors\n",
    "plt.figure(figsize=(8, 6))\n",
    "plt.bar(categories, email_type_counts, color=colors)\n",
    "plt.xlabel('Email Type')\n",
    "plt.ylabel('Count')\n",
    "plt.title('Distribution of Email Types')\n",
    "plt.xticks(unique_email_types,labels, rotation=45,)\n",
    "\n",
    "# Show the chart\n",
    "plt.tight_layout()\n",
    "plt.show()\n",
    "\n",
    "\n",
    "sizes = [53,47]  # Sizes of each pie slice\n",
    "labels = ['Safe', 'phishing']  # Labels for each slice\n",
    "col = plt.cm.Blues(np.linspace(0.3, 0.7, len(categories)))\n",
    "# Create a pie chart\n",
    "plt.pie(sizes, labels=labels, autopct='%1.1f%%', colors=col)\n",
    "\n",
    "# Add title\n",
    "plt.title('Distribution of Email Types')\n",
    "\n",
    "# Show the plot\n",
    "plt.show()"
   ]
  },
  {
   "cell_type": "code",
   "execution_count": 35,
   "id": "0b3a2fe3",
   "metadata": {},
   "outputs": [],
   "source": [
    "#############Text cleaning############"
   ]
  },
  {
   "cell_type": "code",
   "execution_count": 36,
   "id": "c068dd5d",
   "metadata": {},
   "outputs": [],
   "source": [
    "def change_lower (text):\n",
    "    return text.lower()\n",
    "    \n",
    "FX['body'] = FX['body'].apply(change_lower)\n",
    "FX['sender'] = FX['sender'].apply(change_lower)\n",
    "FX['receiver'] = FX['receiver'].apply(change_lower)\n",
    "FX['date'] = FX['date'].apply(change_lower)\n",
    "FX['subject'] = FX['subject'].apply(change_lower)"
   ]
  },
  {
   "cell_type": "code",
   "execution_count": 37,
   "id": "08bf2a29",
   "metadata": {},
   "outputs": [
    {
     "name": "stderr",
     "output_type": "stream",
     "text": [
      "[nltk_data] Downloading package stopwords to\n",
      "[nltk_data]     C:\\Users\\nikhi\\AppData\\Roaming\\nltk_data...\n",
      "[nltk_data]   Package stopwords is already up-to-date!\n"
     ]
    },
    {
     "data": {
      "text/plain": [
       "True"
      ]
     },
     "execution_count": 37,
     "metadata": {},
     "output_type": "execute_result"
    }
   ],
   "source": [
    "import pandas as pd\n",
    "import nltk\n",
    "from nltk.corpus import stopwords\n",
    "nltk.download('stopwords')"
   ]
  },
  {
   "cell_type": "code",
   "execution_count": 38,
   "id": "e14074f2",
   "metadata": {},
   "outputs": [],
   "source": [
    "stop_words = set(stopwords.words('english'))  # Set of English stopwords\n",
    "\n",
    "def remove_stopwords(text):\n",
    "    words = text.split()  # Split the text into words\n",
    "    filtered_words = [word for word in words if word.lower() not in stop_words]  # Remove stopwords\n",
    "    return ' '.join(filtered_words)  # Join the words back into a sentence\n",
    "\n",
    "# Apply the function to the 'text' column\n",
    "FX['body'] = FX['body'].apply(remove_stopwords)\n",
    "FX['subject'] = FX['subject'].apply(remove_stopwords)"
   ]
  },
  {
   "cell_type": "code",
   "execution_count": 39,
   "id": "531813dd",
   "metadata": {},
   "outputs": [
    {
     "data": {
      "text/plain": [
       "'!\"#$%&\\'()*+,-./:;<=>?@[\\\\]^_`{|}~'"
      ]
     },
     "execution_count": 39,
     "metadata": {},
     "output_type": "execute_result"
    }
   ],
   "source": [
    "import string\n",
    "string.punctuation\n"
   ]
  },
  {
   "cell_type": "code",
   "execution_count": 40,
   "id": "f948e27e",
   "metadata": {},
   "outputs": [],
   "source": [
    "def remove_punctuation(text):\n",
    "    return text.translate(str.maketrans('', '', string.punctuation))\n",
    "\n",
    "# Apply the function to the 'text' column\n",
    "FX['subject'] = FX['subject'].apply(remove_punctuation)\n",
    "FX['body'] = FX['body'].apply(remove_punctuation)"
   ]
  },
  {
   "cell_type": "code",
   "execution_count": 41,
   "id": "72832301",
   "metadata": {},
   "outputs": [
    {
     "name": "stderr",
     "output_type": "stream",
     "text": [
      "[nltk_data] Downloading package punkt to\n",
      "[nltk_data]     C:\\Users\\nikhi\\AppData\\Roaming\\nltk_data...\n",
      "[nltk_data]   Package punkt is already up-to-date!\n",
      "[nltk_data] Downloading package wordnet to\n",
      "[nltk_data]     C:\\Users\\nikhi\\AppData\\Roaming\\nltk_data...\n",
      "[nltk_data]   Package wordnet is already up-to-date!\n",
      "[nltk_data] Downloading package omw-1.4 to\n",
      "[nltk_data]     C:\\Users\\nikhi\\AppData\\Roaming\\nltk_data...\n",
      "[nltk_data]   Package omw-1.4 is already up-to-date!\n"
     ]
    },
    {
     "data": {
      "text/plain": [
       "True"
      ]
     },
     "execution_count": 41,
     "metadata": {},
     "output_type": "execute_result"
    }
   ],
   "source": [
    "from nltk.corpus import wordnet\n",
    "from nltk.tokenize import word_tokenize\n",
    "from nltk.stem import WordNetLemmatizer\n",
    "nltk.download('punkt')\n",
    "nltk.download('wordnet')\n",
    "nltk.download('omw-1.4')"
   ]
  },
  {
   "cell_type": "code",
   "execution_count": 42,
   "id": "aade23dc",
   "metadata": {},
   "outputs": [],
   "source": [
    "lemmatizer = WordNetLemmatizer()\n",
    "def lemmatize_text(text):\n",
    "    tokens = word_tokenize(text)  # Tokenize the text into words\n",
    "    lemmatized_tokens = [lemmatizer.lemmatize(word, wordnet.VERB) for word in tokens]  # Lemmatize each word as a verb\n",
    "    return ' '.join(lemmatized_tokens)  # Join the lemmatized tokens back into a sentence\n",
    "\n",
    "# Apply the function to the 'text' column\n",
    "FX['body'] = FX['body'].apply(lemmatize_text)\n",
    "FX['subject'] = FX['subject'].apply(lemmatize_text)"
   ]
  },
  {
   "cell_type": "code",
   "execution_count": 43,
   "id": "0571b874",
   "metadata": {},
   "outputs": [],
   "source": [
    "FX['combined'] = FX['sender'] + ' ' + FX['receiver']+ ' ' + FX['subject']+ ' ' + FX['body']+ ' ' + FX['urls']"
   ]
  },
  {
   "cell_type": "code",
   "execution_count": 44,
   "id": "b0e1328f",
   "metadata": {},
   "outputs": [
    {
     "data": {
      "text/html": [
       "<div>\n",
       "<style scoped>\n",
       "    .dataframe tbody tr th:only-of-type {\n",
       "        vertical-align: middle;\n",
       "    }\n",
       "\n",
       "    .dataframe tbody tr th {\n",
       "        vertical-align: top;\n",
       "    }\n",
       "\n",
       "    .dataframe thead th {\n",
       "        text-align: right;\n",
       "    }\n",
       "</style>\n",
       "<table border=\"1\" class=\"dataframe\">\n",
       "  <thead>\n",
       "    <tr style=\"text-align: right;\">\n",
       "      <th></th>\n",
       "      <th>combined</th>\n",
       "    </tr>\n",
       "  </thead>\n",
       "  <tbody>\n",
       "    <tr>\n",
       "      <th>0</th>\n",
       "      <td>young esposito &lt;young@iworld.de&gt; user4@gvc.cea...</td>\n",
       "    </tr>\n",
       "    <tr>\n",
       "      <th>1</th>\n",
       "      <td>mok &lt;ipline's1983@icable.ph&gt; user2.2@gvc.ceas-...</td>\n",
       "    </tr>\n",
       "    <tr>\n",
       "      <th>2</th>\n",
       "      <td>daily top 10 &lt;karmandeep-opengevl@universalnet...</td>\n",
       "    </tr>\n",
       "    <tr>\n",
       "      <th>3</th>\n",
       "      <td>michael parker &lt;ivqrnai@pobox.com&gt; spamassassi...</td>\n",
       "    </tr>\n",
       "    <tr>\n",
       "      <th>4</th>\n",
       "      <td>gretchen suggs &lt;externalsep1@loanofficertool.c...</td>\n",
       "    </tr>\n",
       "    <tr>\n",
       "      <th>...</th>\n",
       "      <td>...</td>\n",
       "    </tr>\n",
       "    <tr>\n",
       "      <th>53752</th>\n",
       "      <td>scc &lt;gerry.rossi4360@kinki-kids.com&gt; deficient...</td>\n",
       "    </tr>\n",
       "    <tr>\n",
       "      <th>53753</th>\n",
       "      <td>sydney car centre &lt;merrill8783@168city.com&gt; gn...</td>\n",
       "    </tr>\n",
       "    <tr>\n",
       "      <th>53754</th>\n",
       "      <td>philippe grosjean &lt;phgrosjean@sciviews.org&gt; du...</td>\n",
       "    </tr>\n",
       "    <tr>\n",
       "      <th>53755</th>\n",
       "      <td>bernhard wellhöfer &lt;bernhard.wellhoefer@gaia-g...</td>\n",
       "    </tr>\n",
       "    <tr>\n",
       "      <th>53756</th>\n",
       "      <td>danny &lt;pwcusnt@noblecoffee.com&gt; the00@plg.uwat...</td>\n",
       "    </tr>\n",
       "  </tbody>\n",
       "</table>\n",
       "<p>170426 rows × 1 columns</p>\n",
       "</div>"
      ],
      "text/plain": [
       "                                                combined\n",
       "0      young esposito <young@iworld.de> user4@gvc.cea...\n",
       "1      mok <ipline's1983@icable.ph> user2.2@gvc.ceas-...\n",
       "2      daily top 10 <karmandeep-opengevl@universalnet...\n",
       "3      michael parker <ivqrnai@pobox.com> spamassassi...\n",
       "4      gretchen suggs <externalsep1@loanofficertool.c...\n",
       "...                                                  ...\n",
       "53752  scc <gerry.rossi4360@kinki-kids.com> deficient...\n",
       "53753  sydney car centre <merrill8783@168city.com> gn...\n",
       "53754  philippe grosjean <phgrosjean@sciviews.org> du...\n",
       "53755  bernhard wellhöfer <bernhard.wellhoefer@gaia-g...\n",
       "53756  danny <pwcusnt@noblecoffee.com> the00@plg.uwat...\n",
       "\n",
       "[170426 rows x 1 columns]"
      ]
     },
     "execution_count": 44,
     "metadata": {},
     "output_type": "execute_result"
    }
   ],
   "source": [
    "FX1=pd.DataFrame(FX['combined'])\n",
    "FX1"
   ]
  },
  {
   "cell_type": "code",
   "execution_count": 45,
   "id": "a9a82cbd",
   "metadata": {},
   "outputs": [],
   "source": [
    "###################### Explained variance ######################################"
   ]
  },
  {
   "cell_type": "code",
   "execution_count": 46,
   "id": "a7952a96",
   "metadata": {},
   "outputs": [],
   "source": [
    "from sklearn.feature_extraction.text import TfidfVectorizer\n",
    "vectorizer = TfidfVectorizer()"
   ]
  },
  {
   "cell_type": "code",
   "execution_count": 47,
   "id": "cff2d5ca",
   "metadata": {},
   "outputs": [],
   "source": [
    "from sklearn.feature_extraction.text import TfidfVectorizer\n",
    "DIM1=dfa.iloc[:,0:6]\n",
    "vectorizer = TfidfVectorizer()\n",
    "DIM1 = vectorizer.fit_transform(DIM1)\n",
    "vectorizer.get_feature_names_out()\n",
    "DIM1=DIM1.toarray()\n",
    "y = dfa[\"label\"].values"
   ]
  },
  {
   "cell_type": "code",
   "execution_count": 48,
   "id": "b1a2cb4e",
   "metadata": {},
   "outputs": [
    {
     "name": "stdout",
     "output_type": "stream",
     "text": [
      "[17.707186886792183, 33.06871020911687, 44.67003084906618, 66.49085379287179, 80.10898894896306]\n"
     ]
    }
   ],
   "source": [
    "from sklearn.decomposition import TruncatedSVD\n",
    "evr=[]\n",
    "componenets=[1,2,3,4,5]\n",
    "for i in componenets:\n",
    "    svd = TruncatedSVD(n_components=i)\n",
    "    DIM2=svd.fit_transform(DIM1,y)\n",
    "    e=svd.explained_variance_ratio_.sum()\n",
    "    e=e*100\n",
    "    evr.append(e)\n",
    "print(evr)"
   ]
  },
  {
   "cell_type": "code",
   "execution_count": 49,
   "id": "087323ad",
   "metadata": {},
   "outputs": [
    {
     "name": "stderr",
     "output_type": "stream",
     "text": [
      "C:\\Users\\nikhi\\AppData\\Local\\Temp\\ipykernel_6972\\4024735727.py:9: UserWarning: FixedFormatter should only be used together with FixedLocator\n",
      "  ax.set_yticklabels(y_value)\n"
     ]
    },
    {
     "data": {
      "text/plain": [
       "<Figure size 800x600 with 0 Axes>"
      ]
     },
     "metadata": {},
     "output_type": "display_data"
    },
    {
     "data": {
      "image/png": "[encoded data removed]",
      "text/plain": [
       "<Figure size 640x480 with 1 Axes>"
      ]
     },
     "metadata": {},
     "output_type": "display_data"
    }
   ],
   "source": [
    "import matplotlib.pyplot as plt\n",
    "explained_variance_ratio = evr  # Replace with actual explained variance ratios\n",
    "\n",
    "# Plotting the cumulative sum of explained variance ratio\n",
    "plt.figure(figsize=(8, 6))\n",
    "fig, ax = plt.subplots()\n",
    "plt.plot(range(1, len(explained_variance_ratio) + 1), explained_variance_ratio, marker='o', linestyle='-')\n",
    "y_value=['{:,.1f}'.format(x) + '%' for x in ax.get_yticks()]\n",
    "ax.set_yticklabels(y_value)\n",
    "plt.title('Cumulative Sum of Explained Variance Ratio')\n",
    "plt.xlabel('Number of Components')\n",
    "plt.ylabel('Cumulative Explained Variance')\n",
    "\n",
    "\n",
    "\n",
    "plt.grid()\n",
    "plt.show()"
   ]
  },
  {
   "cell_type": "code",
   "execution_count": 50,
   "id": "f543df93",
   "metadata": {},
   "outputs": [],
   "source": [
    "###################### Dimension Reduction######################################"
   ]
  },
  {
   "cell_type": "code",
   "execution_count": 51,
   "id": "4d0fb5aa",
   "metadata": {
    "scrolled": true
   },
   "outputs": [
    {
     "name": "stdout",
     "output_type": "stream",
     "text": [
      "        component_1  component_2  component_3  component_4  component_5\n",
      "0          0.056538     0.000776    -0.041933     0.011483     0.081162\n",
      "1          0.039963     0.015434    -0.024152     0.011732     0.114662\n",
      "2          0.444288     0.534234     0.183193    -0.300522     0.010806\n",
      "3          0.043025    -0.013761    -0.024357    -0.002779    -0.006774\n",
      "4          0.046548     0.002248    -0.011750     0.019807     0.127132\n",
      "...             ...          ...          ...          ...          ...\n",
      "170421     0.076539    -0.026626    -0.050734    -0.016672    -0.018132\n",
      "170422     0.072374    -0.025211    -0.049797    -0.016185    -0.017769\n",
      "170423     0.104590    -0.054603    -0.101909    -0.032968    -0.054618\n",
      "170424     0.110999    -0.050227    -0.084836    -0.023501    -0.058703\n",
      "170425     0.124540    -0.052020    -0.095278    -0.020342    -0.028955\n",
      "\n",
      "[170426 rows x 5 columns]\n"
     ]
    }
   ],
   "source": [
    "from sklearn.pipeline import make_pipeline\n",
    "from sklearn.decomposition import TruncatedSVD\n",
    "n_components = 5  # Number of components after reduction\n",
    "lsa = TruncatedSVD(n_components)\n",
    "\n",
    "# Create a pipeline for text processing and dimensionality reduction\n",
    "pipeline = make_pipeline(vectorizer, lsa)\n",
    "\n",
    "# Fit and transform the data\n",
    "reduced_features = pipeline.fit_transform(FX1['combined'])\n",
    "\n",
    "\n",
    "# Access the reduced features\n",
    "reduced_FX = pd.DataFrame(reduced_features, columns=[f'component_{i+1}' for i in range(n_components)])\n",
    "#reduced_FX=reduced_FX.reset_index(inplace = True)\n",
    "\n",
    "# Concatenate the reduced features with the original DataFrame\n",
    "#df_with_components = pd.concat([FX, reduced_FX], axis=1, ignore_index=True)\n",
    "\n",
    "# Display the result\n",
    "#print(df_with_components)\n",
    "print(reduced_FX)"
   ]
  },
  {
   "cell_type": "code",
   "execution_count": 52,
   "id": "85b57f51",
   "metadata": {},
   "outputs": [],
   "source": [
    "X = reduced_FX\n",
    "y = dfa['label'].values\n",
    "\n",
    "from sklearn.model_selection import train_test_split\n",
    "X_train,x_test,y_train,y_test = train_test_split(X, y, test_size = 0.3, random_state = 0)"
   ]
  },
  {
   "cell_type": "code",
   "execution_count": 53,
   "id": "dbb8dae5",
   "metadata": {},
   "outputs": [],
   "source": [
    "###################### Undersampling ######################################"
   ]
  },
  {
   "cell_type": "code",
   "execution_count": 54,
   "id": "4116e5d8",
   "metadata": {},
   "outputs": [],
   "source": [
    "from imblearn.under_sampling import RandomUnderSampler\n",
    "undersample = RandomUnderSampler(random_state=101, sampling_strategy=1)\n",
    "X_train,y_train = undersample.fit_resample(X_train, y_train)"
   ]
  },
  {
   "cell_type": "code",
   "execution_count": 55,
   "id": "2fcdf28e",
   "metadata": {},
   "outputs": [
    {
     "data": {
      "text/plain": [
       "0    56627\n",
       "1    56627\n",
       "dtype: int64"
      ]
     },
     "execution_count": 55,
     "metadata": {},
     "output_type": "execute_result"
    }
   ],
   "source": [
    "y_train_rus=pd.DataFrame(y_train)\n",
    "y_train_rus.value_counts()"
   ]
  },
  {
   "cell_type": "code",
   "execution_count": 56,
   "id": "78dd72ce",
   "metadata": {},
   "outputs": [
    {
     "data": {
      "image/png": "[encoded data removed]",
      "text/plain": [
       "<Figure size 800x600 with 1 Axes>"
      ]
     },
     "metadata": {},
     "output_type": "display_data"
    },
    {
     "data": {
      "image/png": "[encoded data removed]",
      "text/plain": [
       "<Figure size 640x480 with 1 Axes>"
      ]
     },
     "metadata": {},
     "output_type": "display_data"
    }
   ],
   "source": [
    "import matplotlib.pyplot as plt\n",
    "categories = [0,1]\n",
    "\n",
    "email_type_counts = y_train_rus.value_counts()\n",
    "\n",
    "categories = ['Safe', 'phishing']\n",
    "\n",
    "\n",
    "colors = ['teal', 'palevioletred']\n",
    "\n",
    "\n",
    "# Create the bar chart with custom colors\n",
    "plt.figure(figsize=(8, 6))\n",
    "plt.bar(categories, email_type_counts, color=colors)\n",
    "\n",
    "\n",
    "# Add labels and title\n",
    "plt.xlabel('Categories')\n",
    "plt.ylabel('Values')\n",
    "plt.title('Under-sampled data')\n",
    "plt.xticks(categories) \n",
    "\n",
    "# Show the plot\n",
    "plt.show()\n",
    "\n",
    "sizes = [50,50]  # Sizes of each pie slice\n",
    "labels = ['Safe', 'phishing']  # Labels for each slice\n",
    "\n",
    "\n",
    "col = plt.cm.Blues(np.linspace(0.3, 0.7, len(categories)))\n",
    "# Create a pie chart\n",
    "plt.pie(sizes, labels=labels, autopct='%1.1f%%', colors=col, startangle = 90)\n",
    "\n",
    "# Add title\n",
    "plt.title('Under-sampled data')\n",
    "\n",
    "# Show the plot\n",
    "plt.show()"
   ]
  },
  {
   "cell_type": "code",
   "execution_count": 57,
   "id": "311cc092",
   "metadata": {},
   "outputs": [],
   "source": [
    "###################### Models ######################################"
   ]
  },
  {
   "cell_type": "code",
   "execution_count": 58,
   "id": "86b2b2b9",
   "metadata": {},
   "outputs": [],
   "source": [
    "from sklearn.ensemble import RandomForestClassifier\n",
    "from sklearn.feature_extraction.text import TfidfVectorizer\n",
    "from sklearn.pipeline import Pipeline"
   ]
  },
  {
   "cell_type": "code",
   "execution_count": 59,
   "id": "b5539011",
   "metadata": {},
   "outputs": [],
   "source": [
    "classifier = RandomForestClassifier(n_estimators=10)"
   ]
  },
  {
   "cell_type": "code",
   "execution_count": 60,
   "id": "73a1a400",
   "metadata": {},
   "outputs": [
    {
     "name": "stdout",
     "output_type": "stream",
     "text": [
      "Accuracy: 0.9124\n",
      "Precision: 0.9100\n",
      "Recall: 0.9052\n",
      "F1-Score: 0.9076\n"
     ]
    }
   ],
   "source": [
    "classifier.fit(X_train,y_train)\n",
    "\n",
    "from sklearn.metrics import classification_report,accuracy_score,confusion_matrix\n",
    "from sklearn.metrics import accuracy_score, precision_score, recall_score, f1_score\n",
    "s_ypred = classifier.predict(x_test)\n",
    "accuracy = accuracy_score(y_test,s_ypred )\n",
    "precision = precision_score(y_test,s_ypred, pos_label=1 )\n",
    "recall = recall_score(y_test,s_ypred, pos_label=1)\n",
    "f1 = f1_score(y_test,s_ypred, pos_label=1 )\n",
    "\n",
    "print(f\"Accuracy: {accuracy:.4f}\")\n",
    "print(f\"Precision: {precision:.4f}\")\n",
    "print(f\"Recall: {recall:.4f}\")\n",
    "print(f\"F1-Score: {f1:.4f}\")"
   ]
  },
  {
   "cell_type": "code",
   "execution_count": 61,
   "id": "14728d31",
   "metadata": {},
   "outputs": [
    {
     "name": "stdout",
     "output_type": "stream",
     "text": [
      "Accuracy: 0.9185\n",
      "Precision: 0.9014\n",
      "Recall: 0.9302\n",
      "F1-Score: 0.9156\n"
     ]
    }
   ],
   "source": [
    "from sklearn.ensemble import AdaBoostClassifier\n",
    "\n",
    "\n",
    "# Create adaboost classifer object\n",
    "\n",
    "abc = AdaBoostClassifier(n_estimators=100,base_estimator=RandomForestClassifier(),learning_rate=1, random_state=0)\n",
    "\n",
    "# Train Adaboost Classifer\n",
    "model1 = abc.fit(X_train, y_train)\n",
    "\n",
    "\n",
    "#Predict the response for test dataset\n",
    "s_ypred = model1.predict(x_test)\n",
    "accuracy = accuracy_score(y_test,s_ypred )\n",
    "precision = precision_score(y_test,s_ypred, pos_label=1 )\n",
    "recall = recall_score(y_test,s_ypred, pos_label=1)\n",
    "f1 = f1_score(y_test,s_ypred, pos_label=1 )\n",
    "\n",
    "print(f\"Accuracy: {accuracy:.4f}\")\n",
    "print(f\"Precision: {precision:.4f}\")\n",
    "print(f\"Recall: {recall:.4f}\")\n",
    "print(f\"F1-Score: {f1:.4f}\")"
   ]
  },
  {
   "cell_type": "code",
   "execution_count": 62,
   "id": "61c11dc9",
   "metadata": {},
   "outputs": [
    {
     "name": "stdout",
     "output_type": "stream",
     "text": [
      "Accuracy: 0.9125\n",
      "Precision: 0.8959\n",
      "Recall: 0.9230\n",
      "F1-Score: 0.9092\n"
     ]
    }
   ],
   "source": [
    "from xgboost import XGBClassifier\n",
    "XGB = XGBClassifier()\n",
    "XGB.fit(X_train, y_train)\n",
    "s_ypred = XGB.predict(x_test)\n",
    "accuracy = accuracy_score(y_test,s_ypred )\n",
    "precision = precision_score(y_test,s_ypred, pos_label=1 )\n",
    "recall = recall_score(y_test,s_ypred, pos_label=1)\n",
    "f1 = f1_score(y_test,s_ypred, pos_label=1 )\n",
    "\n",
    "print(f\"Accuracy: {accuracy:.4f}\")\n",
    "print(f\"Precision: {precision:.4f}\")\n",
    "print(f\"Recall: {recall:.4f}\")\n",
    "print(f\"F1-Score: {f1:.4f}\")"
   ]
  },
  {
   "cell_type": "code",
   "execution_count": 63,
   "id": "de053883",
   "metadata": {},
   "outputs": [
    {
     "name": "stdout",
     "output_type": "stream",
     "text": [
      "Accuracy: 0.8581\n",
      "Precision: 0.8839\n",
      "Recall: 0.8073\n",
      "F1-Score: 0.8439\n"
     ]
    }
   ],
   "source": [
    "#SVM\n",
    "from sklearn.svm import SVC\n",
    "SVMN = SVC(C = 100, gamma = \"auto\", probability=True)\n",
    "SVMN.fit(X_train,y_train)\n",
    "s_ypred = SVMN.predict(x_test)\n",
    "accuracy = accuracy_score(y_test,s_ypred )\n",
    "precision = precision_score(y_test,s_ypred, pos_label=1 )\n",
    "recall = recall_score(y_test,s_ypred, pos_label=1)\n",
    "f1 = f1_score(y_test,s_ypred, pos_label=1 )\n",
    "\n",
    "print(f\"Accuracy: {accuracy:.4f}\")\n",
    "print(f\"Precision: {precision:.4f}\")\n",
    "print(f\"Recall: {recall:.4f}\")\n",
    "print(f\"F1-Score: {f1:.4f}\")"
   ]
  },
  {
   "cell_type": "code",
   "execution_count": 64,
   "id": "1e21ee57",
   "metadata": {},
   "outputs": [
    {
     "name": "stderr",
     "output_type": "stream",
     "text": [
      "C:\\ProgramData\\Anaconda3\\lib\\site-packages\\sklearn\\neighbors\\_classification.py:228: FutureWarning: Unlike other reduction functions (e.g. `skew`, `kurtosis`), the default behavior of `mode` typically preserves the axis it acts along. In SciPy 1.11.0, this behavior will change: the default value of `keepdims` will become False, the `axis` over which the statistic is taken will be eliminated, and the value None will no longer be accepted. Set `keepdims` to True or False to avoid this warning.\n",
      "  mode, _ = stats.mode(_y[neigh_ind, k], axis=1)\n"
     ]
    },
    {
     "name": "stdout",
     "output_type": "stream",
     "text": [
      "Accuracy: 0.9112\n",
      "Precision: 0.9004\n",
      "Recall: 0.9143\n",
      "F1-Score: 0.9073\n"
     ]
    }
   ],
   "source": [
    "from sklearn.neighbors import KNeighborsClassifier\n",
    "KNN = KNeighborsClassifier(n_neighbors=3)\n",
    "KNN.fit(X_train,y_train)\n",
    "s_ypred = KNN.predict(x_test)\n",
    "accuracy = accuracy_score(y_test,s_ypred )\n",
    "precision = precision_score(y_test,s_ypred, pos_label=1 )\n",
    "recall = recall_score(y_test,s_ypred, pos_label=1)\n",
    "f1 = f1_score(y_test,s_ypred, pos_label=1 )\n",
    "\n",
    "print(f\"Accuracy: {accuracy:.4f}\")\n",
    "print(f\"Precision: {precision:.4f}\")\n",
    "print(f\"Recall: {recall:.4f}\")\n",
    "print(f\"F1-Score: {f1:.4f}\")"
   ]
  },
  {
   "cell_type": "code",
   "execution_count": 65,
   "id": "05f207e1",
   "metadata": {},
   "outputs": [
    {
     "name": "stdout",
     "output_type": "stream",
     "text": [
      "Accuracy: 0.8860\n",
      "Precision: 0.8755\n",
      "Recall: 0.8861\n",
      "F1-Score: 0.8807\n"
     ]
    }
   ],
   "source": [
    "from sklearn.tree import DecisionTreeClassifier\n",
    "DT =  DecisionTreeClassifier(random_state=0)\n",
    "DT.fit(X_train,y_train)\n",
    "s_ypred = DT.predict(x_test)\n",
    "accuracy = accuracy_score(y_test,s_ypred )\n",
    "precision = precision_score(y_test,s_ypred, pos_label=1 )\n",
    "recall = recall_score(y_test,s_ypred, pos_label=1)\n",
    "f1 = f1_score(y_test,s_ypred, pos_label=1 )\n",
    "\n",
    "print(f\"Accuracy: {accuracy:.4f}\")\n",
    "print(f\"Precision: {precision:.4f}\")\n",
    "print(f\"Recall: {recall:.4f}\")\n",
    "print(f\"F1-Score: {f1:.4f}\")"
   ]
  },
  {
   "cell_type": "code",
   "execution_count": 66,
   "id": "d712fcc8",
   "metadata": {},
   "outputs": [
    {
     "name": "stdout",
     "output_type": "stream",
     "text": [
      "Accuracy: 0.8247\n",
      "Precision: 0.8858\n",
      "Recall: 0.7241\n",
      "F1-Score: 0.7969\n"
     ]
    }
   ],
   "source": [
    "from sklearn.linear_model import LogisticRegression\n",
    "LR = LogisticRegression(random_state=0)\n",
    "LR .fit(X_train,y_train)\n",
    "s_ypred = LR.predict(x_test)\n",
    "accuracy = accuracy_score(y_test,s_ypred )\n",
    "precision = precision_score(y_test,s_ypred, pos_label=1 )\n",
    "recall = recall_score(y_test,s_ypred, pos_label=1)\n",
    "f1 = f1_score(y_test,s_ypred, pos_label=1 )\n",
    "\n",
    "print(f\"Accuracy: {accuracy:.4f}\")\n",
    "print(f\"Precision: {precision:.4f}\")\n",
    "print(f\"Recall: {recall:.4f}\")\n",
    "print(f\"F1-Score: {f1:.4f}\")\n"
   ]
  },
  {
   "cell_type": "code",
   "execution_count": 67,
   "id": "5a0ba011",
   "metadata": {},
   "outputs": [],
   "source": [
    "#Voting\n",
    "from sklearn.ensemble import VotingClassifier"
   ]
  },
  {
   "cell_type": "code",
   "execution_count": 68,
   "id": "731c2091",
   "metadata": {},
   "outputs": [
    {
     "name": "stdout",
     "output_type": "stream",
     "text": [
      "Accuracy: 0.9124\n",
      "Accuracy: 0.9124\n",
      "Precision: 0.9046\n",
      "Recall: 0.9117\n",
      "F1-Score: 0.9081\n"
     ]
    }
   ],
   "source": [
    "\n",
    "# Create a voting classifier with different models\n",
    "voting_clf = VotingClassifier(\n",
    "    estimators=[('lr', LR), ('dt', DT), ('svc', SVMN),('KNN', KNN),('RF', classifier)],\n",
    "    voting='soft'  # or 'soft' for soft voting\n",
    ")\n",
    "\n",
    "# Train the voting classifier\n",
    "voting_clf.fit(X_train, y_train)\n",
    "\n",
    "# Make predictions\n",
    "y_pred = voting_clf.predict(x_test)\n",
    "\n",
    "# Evaluate accuracy\n",
    "accuracy = accuracy_score(y_test, y_pred)\n",
    "print(f\"Accuracy: {accuracy:.4f}\")\n",
    "\n",
    "accuracy = accuracy_score(y_test,y_pred )\n",
    "precision = precision_score(y_test,y_pred, pos_label=1 )\n",
    "recall = recall_score(y_test,y_pred, pos_label=1)\n",
    "f1 = f1_score(y_test,y_pred, pos_label=1 )\n",
    "\n",
    "print(f\"Accuracy: {accuracy:.4f}\")\n",
    "print(f\"Precision: {precision:.4f}\")\n",
    "print(f\"Recall: {recall:.4f}\")\n",
    "print(f\"F1-Score: {f1:.4f}\")"
   ]
  },
  {
   "cell_type": "code",
   "execution_count": 69,
   "id": "c2b909cf",
   "metadata": {},
   "outputs": [
    {
     "data": {
      "image/png": "[encoded data removed]",
      "text/plain": [
       "<Figure size 800x600 with 1 Axes>"
      ]
     },
     "metadata": {},
     "output_type": "display_data"
    }
   ],
   "source": [
    "import matplotlib.pyplot as plt\n",
    "values = [91.23,82.4,91.12,85.79,88.65,91.3,91.85,91.2]\n",
    "categories = ['RF', 'Logistic', 'KNN', 'SVM', 'DT','Voting','Adaboost','XGBoost']\n",
    "\n",
    "#custom_order = ['Unique Receiver', 'Receiver', 'Unique Sender', 'Sender','Total']\n",
    "\n",
    "# Reorder the categories and values based on the custom order\n",
    "#ordered_values = [values[categories.index(cat)] for cat in custom_order]\n",
    "\n",
    "colors = plt.cm.Oranges(np.linspace(0.3, 1, len(categories)))\n",
    "# Create a plot\n",
    "plt.figure(figsize=(8, 6))\n",
    "plt.bar(categories, values , color=colors)\n",
    "\n",
    "# Add labels and title\n",
    "\n",
    "plt.xlabel('Classifiers')\n",
    "plt.ylabel('Accuracy %')\n",
    "plt.title('Chart showing the Accuracy % of Classifiers')\n",
    "\n",
    "#plt.xticks(rotation=90)\n",
    "\n",
    "# Show the plot\n",
    "plt.show()"
   ]
  },
  {
   "cell_type": "code",
   "execution_count": 70,
   "id": "130c54ba",
   "metadata": {},
   "outputs": [],
   "source": [
    "################ new data #######################"
   ]
  },
  {
   "cell_type": "code",
   "execution_count": 71,
   "id": "c4606fd6",
   "metadata": {},
   "outputs": [
    {
     "name": "stdout",
     "output_type": "stream",
     "text": [
      "Predicted: Phishing Email\n"
     ]
    }
   ],
   "source": [
    "new_df1= pd.read_csv(\"New_data.csv\")\n",
    "\n",
    "############# Data loading ############\n",
    "\n",
    "new_dfa=pd.DataFrame(data=new_df1)\n",
    "\n",
    "\n",
    "new_dfa['urls'].replace(int(0),'URL_Exists',inplace=True)\n",
    "new_dfa['urls'].replace(int(1),'NO_URL',inplace=True)\n",
    "\n",
    "new_dfa = new_dfa[['sender', 'receiver', 'date', 'subject','body', 'urls']]\n",
    "\n",
    "new_FX=new_dfa.iloc[:,0:6]\n",
    "\n",
    "new_FX=pd.DataFrame(new_FX)\n",
    "\n",
    "\n",
    "    \n",
    "new_FX['body'] = new_FX['body'].apply(change_lower)\n",
    "new_FX['sender'] = new_FX['sender'].apply(change_lower)\n",
    "new_FX['receiver'] = new_FX['receiver'].apply(change_lower)\n",
    "new_FX['date'] = new_FX['date'].apply(change_lower)\n",
    "new_FX['subject'] = new_FX['subject'].apply(change_lower)\n",
    "\n",
    "\n",
    "\n",
    "new_FX['body'] = new_FX['body'].apply(remove_stopwords)\n",
    "new_FX['subject'] = new_FX['subject'].apply(remove_stopwords)\n",
    "\n",
    "\n",
    "\n",
    "new_FX['subject'] = new_FX['subject'].apply(remove_punctuation)\n",
    "new_FX['body'] = new_FX['body'].apply(remove_punctuation)\n",
    "\n",
    "\n",
    "new_FX['body'] = new_FX['body'].apply(lemmatize_text)\n",
    "new_FX['subject'] = new_FX['subject'].apply(lemmatize_text)\n",
    "\n",
    "new_FX['combined'] = new_FX['sender'] + ' ' + new_FX['receiver']+ ' ' + new_FX['subject']+ ' ' + new_FX['body']+ ' ' + new_FX['urls']\n",
    "\n",
    "new_FX1=pd.DataFrame(new_FX['combined'])\n",
    "new_FX1\n",
    "\n",
    "n_components = 5  \n",
    "\n",
    "\n",
    "pipeline = make_pipeline(vectorizer, lsa)\n",
    "\n",
    "New_reduced_features = pipeline.transform(new_FX1['combined'])\n",
    "\n",
    "\n",
    "New_reduced_FX = pd.DataFrame(New_reduced_features, columns=[f'component_{i+1}' for i in range(n_components)])\n",
    "\n",
    "\n",
    "newdata = New_reduced_FX\n",
    "\n",
    "\n",
    "new_pred = model1.predict(newdata )\n",
    "new_pred1=''\n",
    "if new_pred==1:\n",
    "    new_pred1='Phishing Email'\n",
    "else:\n",
    "    new_pred1='Safe Email'\n",
    "\n",
    "print('Predicted:',new_pred1)\n",
    "\n"
   ]
  }
 ],
 "metadata": {
  "kernelspec": {
   "display_name": "Python 3 (ipykernel)",
   "language": "python",
   "name": "python3"
  },
  "language_info": {
   "codemirror_mode": {
    "name": "ipython",
    "version": 3
   },
   "file_extension": ".py",
   "mimetype": "text/x-python",
   "name": "python",
   "nbconvert_exporter": "python",
   "pygments_lexer": "ipython3",
   "version": "3.9.13"
  }
 },
 "nbformat": 4,
 "nbformat_minor": 5
}
