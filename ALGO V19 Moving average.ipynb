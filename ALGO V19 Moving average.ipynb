{
 "cells": [
  {
   "cell_type": "code",
   "execution_count": 5,
   "id": "5cad7c7d",
   "metadata": {},
   "outputs": [],
   "source": [
    "import pandas as pd\n",
    "import numpy as np\n",
    "import time\n",
    "from sklearn import linear_model\n",
    "from datetime import datetime\n",
    "import pytz"
   ]
  },
  {
   "cell_type": "code",
   "execution_count": 6,
   "id": "797fd59b",
   "metadata": {},
   "outputs": [
    {
     "name": "stdout",
     "output_type": "stream",
     "text": [
      "C:\\Users\\nikhi\\Desktop\\New folder\n"
     ]
    }
   ],
   "source": [
    "cd C:\\Users\\nikhi\\Desktop\\New folder"
   ]
  },
  {
   "cell_type": "code",
   "execution_count": 7,
   "id": "7f594b07",
   "metadata": {},
   "outputs": [],
   "source": [
    "import logging\n",
    "from kiteconnect import KiteConnect\n",
    "logging.basicConfig(level=logging.DEBUG)\n",
    "\n",
    "kite = KiteConnect(api_key=\"offq4l2e3rytdipj\")"
   ]
  },
  {
   "cell_type": "code",
   "execution_count": 8,
   "id": "1362cb77",
   "metadata": {},
   "outputs": [
    {
     "data": {
      "text/plain": [
       "'https://kite.zerodha.com/connect/login?api_key=offq4l2e3rytdipj&v=3'"
      ]
     },
     "execution_count": 8,
     "metadata": {},
     "output_type": "execute_result"
    }
   ],
   "source": [
    "kite.login_url()"
   ]
  },
  {
   "cell_type": "code",
   "execution_count": 9,
   "id": "88b615ba",
   "metadata": {},
   "outputs": [
    {
     "name": "stderr",
     "output_type": "stream",
     "text": [
      "DEBUG:urllib3.connectionpool:Starting new HTTPS connection (1): api.kite.trade:443\n",
      "DEBUG:urllib3.connectionpool:https://api.kite.trade:443 \"POST /session/token HTTP/1.1\" 200 None\n"
     ]
    }
   ],
   "source": [
    "data = kite.generate_session(\"RFCXITeLg5DfhcKdJyOxccagB3fDFbRq\", api_secret=\"3xaieymiwahzi2qsvtyecni9ddl42jui\")"
   ]
  },
  {
   "cell_type": "code",
   "execution_count": 10,
   "id": "ad52bb4d",
   "metadata": {},
   "outputs": [
    {
     "name": "stdout",
     "output_type": "stream",
     "text": [
      "---------------------------\n",
      "Access Token: 4r8UoCpSKUuLm42p4vjIbTMdkt4GMZI2\n"
     ]
    }
   ],
   "source": [
    "kite.set_access_token(data[\"access_token\"])\n",
    "print (\"---------------------------\")\n",
    "print (\"Access Token:\", data[\"access_token\"])"
   ]
  },
  {
   "cell_type": "code",
   "execution_count": 11,
   "id": "5c6f4b06",
   "metadata": {},
   "outputs": [],
   "source": [
    "varty=kite.VARIETY_REGULAR\n",
    "scrip='IDBI'\n",
    "prd_type=kite.PRODUCT_MIS\n",
    "qty=1\n",
    "exchg=kite.EXCHANGE_NSE\n",
    "ord_typ=kite.ORDER_TYPE_MARKET\n",
    "valdty=kite.VALIDITY_DAY\n",
    "exchange='NSE'\n"
   ]
  },
  {
   "cell_type": "code",
   "execution_count": 12,
   "id": "4128ac5d",
   "metadata": {},
   "outputs": [],
   "source": [
    "def buyorder():\n",
    "    try:\n",
    "        order_id = kite.place_order(variety=varty,\n",
    "                                    tradingsymbol=scrip,\n",
    "                                    exchange=exchg,\n",
    "                                    transaction_type=kite.TRANSACTION_TYPE_BUY,\n",
    "                                    quantity=qty,\n",
    "                                    order_type=ord_typ,\n",
    "                                    product=prd_type,\n",
    "                                    validity=valdty)\n",
    "        logging.info(\"Order placed. ID is: {}\".format(order_id))\n",
    "    except Exception as e:\n",
    "        logging.info(\"Order placement failed: {}\".format(e.message))\n",
    "    \n",
    "def sellorder():\n",
    "    try:\n",
    "        order_id = kite.place_order(variety=varty,\n",
    "                                    tradingsymbol=scrip,\n",
    "                                    exchange=exchg,\n",
    "                                    transaction_type=kite.TRANSACTION_TYPE_SELL,\n",
    "                                    quantity=qty,\n",
    "                                    order_type=ord_typ,\n",
    "                                    product=prd_type,\n",
    "                                    validity=valdty)\n",
    "        logging.info(\"Order placed. ID is: {}\".format(order_id))\n",
    "    except Exception as e:\n",
    "        logging.info(\"Order placement failed: {}\".format(e.message))        "
   ]
  },
  {
   "cell_type": "code",
   "execution_count": 13,
   "id": "49499a7e",
   "metadata": {},
   "outputs": [],
   "source": [
    "def LTP_f():\n",
    "    LTP=kite.ltp('NSE:IDBI')\n",
    "    a=LTP\n",
    "    return (a['NSE:IDBI']['last_price'])"
   ]
  },
  {
   "cell_type": "code",
   "execution_count": 14,
   "id": "977c66ec",
   "metadata": {},
   "outputs": [],
   "source": [
    "#for 1 position scrip\n",
    "\n",
    "def buyprice ():\n",
    "    d=kite.positions()\n",
    "    [d1]=(d['net'])\n",
    "    BUYPRICE=d1['buy_price']\n",
    "    return BUYPRICE\n",
    "\n",
    "def sellprice ():\n",
    "    s=kite.positions()\n",
    "    [s1]=(s['net'])\n",
    "    SELLPRICE=s1['sell_price']\n",
    "    return SELLPRICE\n",
    "\n",
    "def pnl ():\n",
    "    d=kite.positions()\n",
    "    [pn]=(d['net'])\n",
    "    PNL=pn['pnl']\n",
    "    return PNL\n",
    "\n",
    "def pqty():\n",
    "    d=kite.positions()\n",
    "    [pq]=(d['net'])\n",
    "    P_qty=pq['quantity']\n",
    "    return  P_qty\n",
    "\n",
    "def ptime():\n",
    "    # Get the timezone object for London\n",
    "    tz_India = pytz.timezone('Asia/Calcutta')\n",
    "\n",
    "    # Get the current time in London\n",
    "    datetime_India = datetime.now(tz_India)\n",
    "\n",
    "    # Format the time as a string and print it\n",
    "    print(\"India time:\", datetime_India.strftime(\"%H:%M:%S\"))\n",
    "    \n",
    "def Order_Status():\n",
    "    v=kite.orders()\n",
    "    OID=v[:][-1]['order_id']\n",
    "    status=v[:][-1]['status']\n",
    "    return status"
   ]
  },
  {
   "cell_type": "code",
   "execution_count": 15,
   "id": "641ca007",
   "metadata": {},
   "outputs": [],
   "source": [
    "def Last_close():\n",
    "    instrument_token=377857\n",
    "    from_date='2023-02-07'\n",
    "    to_date='2023-02-21'\n",
    "    interval='minute'\n",
    "    his=kite.historical_data(instrument_token, from_date, to_date, interval, continuous=False, oi=False)\n",
    "    df = pd.DataFrame(data=his)\n",
    "    L_close=df['close'].iloc[-1]\n",
    "    return L_close"
   ]
  },
  {
   "cell_type": "code",
   "execution_count": 16,
   "id": "5fbc9955",
   "metadata": {},
   "outputs": [],
   "source": [
    "def MA():\n",
    "    instrument_token=377857\n",
    "    from_date='2023-02-07'\n",
    "    to_date='2023-02-21'\n",
    "    interval='minute'\n",
    "    his=kite.historical_data(instrument_token, from_date, to_date, interval, continuous=False, oi=False)\n",
    "    df = pd.DataFrame(data=his)\n",
    "    y=df['close'].to_frame()\n",
    "    MA= y['close'].ewm(span=5).mean()\n",
    "    MA1=y.iloc[-1].values\n",
    "    return MA1"
   ]
  },
  {
   "cell_type": "code",
   "execution_count": 17,
   "id": "bf021c4a",
   "metadata": {
    "scrolled": true
   },
   "outputs": [],
   "source": [
    "def LTP_MA():\n",
    "    LTP_MA=[]\n",
    "    for i in range(5):\n",
    "        LTP_MA.append(LTP_f())\n",
    "        df2 = pd.DataFrame (LTP_MA)\n",
    "        time.sleep(3)\n",
    "        MA=df2.ewm(span=5).mean()\n",
    "        MA1=MA.iloc[-1].values\n",
    "    return MA1.round(2)"
   ]
  },
  {
   "cell_type": "code",
   "execution_count": 18,
   "id": "f2bb4c99",
   "metadata": {},
   "outputs": [],
   "source": [
    "def z_pos():\n",
    "    d=kite.positions()\n",
    "    ops=(d['net'])\n",
    "    if len(ops)==0:\n",
    "        return (0)\n",
    "    else:\n",
    "        return (1)\n"
   ]
  },
  {
   "cell_type": "code",
   "execution_count": 19,
   "id": "90b522d3",
   "metadata": {},
   "outputs": [],
   "source": [
    "def bid():\n",
    "    b=kite.quote('NSE:IDBI')\n",
    "    bq=b['NSE:IDBI']['buy_quantity']\n",
    "    sq=b['NSE:IDBI']['sell_quantity']\n",
    "    if bq>sq:\n",
    "        bid='positive'\n",
    "    else:\n",
    "        bid='negetive'\n",
    "    return bid"
   ]
  },
  {
   "cell_type": "code",
   "execution_count": 20,
   "id": "debf0165",
   "metadata": {},
   "outputs": [],
   "source": [
    "def predicted_price():\n",
    "    instrument_token=377857\n",
    "    from_date='2023-02-07'\n",
    "    to_date='2023-02-21'\n",
    "    interval='minute'\n",
    "    his=kite.historical_data(instrument_token, from_date, to_date, interval, continuous=False, oi=False)\n",
    "    df = pd.DataFrame(data=his)\n",
    "    x=df[['open','high','low']]\n",
    "    y=df['close']\n",
    "    reg=linear_model.LinearRegression()\n",
    "    reg.fit(x,y)\n",
    "    Last_row=x.iloc[-1:,[0,1,2]].values\n",
    "    Last_row\n",
    "    pred=reg.predict(Last_row)\n",
    "    return pred"
   ]
  },
  {
   "cell_type": "code",
   "execution_count": 22,
   "id": "61463d26",
   "metadata": {
    "scrolled": true
   },
   "outputs": [
    {
     "name": "stderr",
     "output_type": "stream",
     "text": [
      "DEBUG:urllib3.connectionpool:https://api.kite.trade:443 \"GET /quote/ltp?i=NSE%3AIDBI HTTP/1.1\" 200 None\n",
      "DEBUG:urllib3.connectionpool:https://api.kite.trade:443 \"GET /quote/ltp?i=NSE%3AIDBI HTTP/1.1\" 200 None\n",
      "DEBUG:urllib3.connectionpool:https://api.kite.trade:443 \"GET /quote/ltp?i=NSE%3AIDBI HTTP/1.1\" 200 None\n",
      "DEBUG:urllib3.connectionpool:https://api.kite.trade:443 \"GET /quote/ltp?i=NSE%3AIDBI HTTP/1.1\" 200 None\n",
      "DEBUG:urllib3.connectionpool:https://api.kite.trade:443 \"GET /quote/ltp?i=NSE%3AIDBI HTTP/1.1\" 200 None\n",
      "DEBUG:urllib3.connectionpool:https://api.kite.trade:443 \"GET /instruments/historical/377857/minute?from=2023-02-07&to=2023-02-21&interval=minute&continuous=0&oi=0 HTTP/1.1\" 200 47424\n",
      "DEBUG:urllib3.connectionpool:https://api.kite.trade:443 \"GET /quote/ltp?i=NSE%3AIDBI HTTP/1.1\" 200 None\n",
      "DEBUG:urllib3.connectionpool:https://api.kite.trade:443 \"GET /quote/ltp?i=NSE%3AIDBI HTTP/1.1\" 200 None\n",
      "DEBUG:urllib3.connectionpool:https://api.kite.trade:443 \"GET /quote/ltp?i=NSE%3AIDBI HTTP/1.1\" 200 None\n",
      "DEBUG:urllib3.connectionpool:https://api.kite.trade:443 \"GET /quote/ltp?i=NSE%3AIDBI HTTP/1.1\" 200 None\n",
      "DEBUG:urllib3.connectionpool:https://api.kite.trade:443 \"GET /quote/ltp?i=NSE%3AIDBI HTTP/1.1\" 200 None\n",
      "DEBUG:urllib3.connectionpool:https://api.kite.trade:443 \"GET /instruments/historical/377857/minute?from=2023-02-07&to=2023-02-21&interval=minute&continuous=0&oi=0 HTTP/1.1\" 200 47424\n",
      "DEBUG:urllib3.connectionpool:https://api.kite.trade:443 \"GET /portfolio/positions HTTP/1.1\" 200 None\n"
     ]
    },
    {
     "name": "stdout",
     "output_type": "stream",
     "text": [
      "sell order-shortsell\n"
     ]
    }
   ],
   "source": [
    "#begin trade\n",
    "for i in range(30):\n",
    "    if LTP_MA()>Last_close() and z_pos()==0:\n",
    "        buyorder()\n",
    "        print(\"Buy order\")\n",
    "        break\n",
    "       \n",
    "    elif LTP_MA()<Last_close() and z_pos()==0:\n",
    "        #sellorder()\n",
    "        print(\"sell order-shortsell\")\n",
    "        break\n",
    "        \n",
    "    else:\n",
    "            print(\"Trade not started\")\n",
    "    ptime()\n",
    "    time.sleep(30)"
   ]
  },
  {
   "cell_type": "code",
   "execution_count": 29,
   "id": "4d532ad0",
   "metadata": {
    "scrolled": false
   },
   "outputs": [
    {
     "name": "stderr",
     "output_type": "stream",
     "text": [
      "DEBUG:urllib3.connectionpool:https://api.kite.trade:443 \"GET /quote?i=NSE%3AIDBI HTTP/1.1\" 200 None\n"
     ]
    }
   ],
   "source": [
    "#highselling\n",
    "while bid()=='positive':\n",
    "    count=(0)\n",
    "    for i in range(60):\n",
    "\n",
    "        if pqty()==0 and pnl ()>-15 and LTP_MA()>Last_close() and Order_Status()=='COMPLETE':\n",
    "                buyorder()\n",
    "                print(\"Buy order\")\n",
    "        elif pqty()==qty and LTP_MA()>0.10+buyprice():\n",
    "                sellorder()\n",
    "                print(\"sellorder-profit achieved\")\n",
    "        elif pqty()==qty and LTP_MA()>predicted_price() and LTP_MA()<0.10+buyprice():\n",
    "                print(\"Hold\")      \n",
    "        elif pqty()==qty and LTP_MA()<0.10-buyprice():\n",
    "                sellorder()\n",
    "                print(\"sellorder\")\n",
    "        elif pqty()==qty and pnl ()<=-15:\n",
    "                sellorder()\n",
    "                print(\"sellorder-PNL<=0\")\n",
    "        elif pqty()==0 and pnl ()<=-15:\n",
    "                print(\"Close for the day-PNL<=0\")\n",
    "\n",
    "        else:\n",
    "                print(\"No trades placed..\")\n",
    "\n",
    "        \n",
    "        count+=1\n",
    "        print('count:', count)\n",
    "        ptime()\n",
    "        time.sleep(60)\n"
   ]
  },
  {
   "cell_type": "code",
   "execution_count": 32,
   "id": "20f20156",
   "metadata": {},
   "outputs": [
    {
     "name": "stderr",
     "output_type": "stream",
     "text": [
      "DEBUG:urllib3.connectionpool:https://api.kite.trade:443 \"POST /orders/regular HTTP/1.1\" 200 None\n",
      "INFO:root:Order placed. ID is: 230221201277799\n"
     ]
    }
   ],
   "source": [
    "buyorder()"
   ]
  },
  {
   "cell_type": "code",
   "execution_count": 46,
   "id": "67c1005d",
   "metadata": {},
   "outputs": [
    {
     "name": "stderr",
     "output_type": "stream",
     "text": [
      "DEBUG:urllib3.connectionpool:https://api.kite.trade:443 \"GET /quote/ltp?i=NSE%3AIDBI HTTP/1.1\" 200 None\n",
      "DEBUG:urllib3.connectionpool:https://api.kite.trade:443 \"GET /quote/ltp?i=NSE%3AIDBI HTTP/1.1\" 200 None\n",
      "DEBUG:urllib3.connectionpool:https://api.kite.trade:443 \"GET /quote/ltp?i=NSE%3AIDBI HTTP/1.1\" 200 None\n",
      "DEBUG:urllib3.connectionpool:https://api.kite.trade:443 \"GET /quote/ltp?i=NSE%3AIDBI HTTP/1.1\" 200 None\n",
      "DEBUG:urllib3.connectionpool:https://api.kite.trade:443 \"GET /quote/ltp?i=NSE%3AIDBI HTTP/1.1\" 200 None\n",
      "DEBUG:urllib3.connectionpool:https://api.kite.trade:443 \"GET /portfolio/positions HTTP/1.1\" 200 None\n",
      "DEBUG:urllib3.connectionpool:https://api.kite.trade:443 \"GET /portfolio/positions HTTP/1.1\" 200 None\n",
      "DEBUG:urllib3.connectionpool:https://api.kite.trade:443 \"GET /portfolio/positions HTTP/1.1\" 200 None\n",
      "DEBUG:urllib3.connectionpool:https://api.kite.trade:443 \"GET /portfolio/positions HTTP/1.1\" 200 None\n",
      "DEBUG:urllib3.connectionpool:https://api.kite.trade:443 \"GET /instruments/historical/377857/minute?from=2023-02-07&to=2023-02-21&interval=minute&continuous=0&oi=0 HTTP/1.1\" 200 46313\n",
      "C:\\ProgramData\\Anaconda3\\lib\\site-packages\\sklearn\\base.py:450: UserWarning: X does not have valid feature names, but LinearRegression was fitted with feature names\n",
      "  warnings.warn(\n",
      "DEBUG:urllib3.connectionpool:https://api.kite.trade:443 \"GET /portfolio/positions HTTP/1.1\" 200 None\n"
     ]
    },
    {
     "name": "stdout",
     "output_type": "stream",
     "text": [
      "Hold\n",
      "count: 1\n",
      "India time: 13:55:02\n"
     ]
    },
    {
     "name": "stderr",
     "output_type": "stream",
     "text": [
      "DEBUG:urllib3.connectionpool:https://api.kite.trade:443 \"GET /quote/ltp?i=NSE%3AIDBI HTTP/1.1\" 200 None\n",
      "DEBUG:urllib3.connectionpool:https://api.kite.trade:443 \"GET /quote/ltp?i=NSE%3AIDBI HTTP/1.1\" 200 None\n",
      "DEBUG:urllib3.connectionpool:https://api.kite.trade:443 \"GET /quote/ltp?i=NSE%3AIDBI HTTP/1.1\" 200 None\n",
      "DEBUG:urllib3.connectionpool:https://api.kite.trade:443 \"GET /quote/ltp?i=NSE%3AIDBI HTTP/1.1\" 200 None\n",
      "DEBUG:urllib3.connectionpool:https://api.kite.trade:443 \"GET /quote/ltp?i=NSE%3AIDBI HTTP/1.1\" 200 None\n",
      "DEBUG:urllib3.connectionpool:https://api.kite.trade:443 \"GET /portfolio/positions HTTP/1.1\" 200 None\n",
      "DEBUG:urllib3.connectionpool:https://api.kite.trade:443 \"GET /portfolio/positions HTTP/1.1\" 200 None\n",
      "DEBUG:urllib3.connectionpool:https://api.kite.trade:443 \"GET /portfolio/positions HTTP/1.1\" 200 None\n",
      "DEBUG:urllib3.connectionpool:https://api.kite.trade:443 \"GET /portfolio/positions HTTP/1.1\" 200 None\n",
      "DEBUG:urllib3.connectionpool:https://api.kite.trade:443 \"GET /instruments/historical/377857/minute?from=2023-02-07&to=2023-02-21&interval=minute&continuous=0&oi=0 HTTP/1.1\" 200 46331\n",
      "C:\\ProgramData\\Anaconda3\\lib\\site-packages\\sklearn\\base.py:450: UserWarning: X does not have valid feature names, but LinearRegression was fitted with feature names\n",
      "  warnings.warn(\n",
      "DEBUG:urllib3.connectionpool:https://api.kite.trade:443 \"GET /portfolio/positions HTTP/1.1\" 200 None\n"
     ]
    },
    {
     "name": "stdout",
     "output_type": "stream",
     "text": [
      "Hold\n",
      "count: 2\n",
      "India time: 13:56:20\n"
     ]
    },
    {
     "name": "stderr",
     "output_type": "stream",
     "text": [
      "DEBUG:urllib3.connectionpool:https://api.kite.trade:443 \"GET /quote/ltp?i=NSE%3AIDBI HTTP/1.1\" 200 None\n",
      "DEBUG:urllib3.connectionpool:https://api.kite.trade:443 \"GET /quote/ltp?i=NSE%3AIDBI HTTP/1.1\" 200 None\n",
      "DEBUG:urllib3.connectionpool:https://api.kite.trade:443 \"GET /quote/ltp?i=NSE%3AIDBI HTTP/1.1\" 200 None\n",
      "DEBUG:urllib3.connectionpool:https://api.kite.trade:443 \"GET /quote/ltp?i=NSE%3AIDBI HTTP/1.1\" 200 None\n",
      "DEBUG:urllib3.connectionpool:https://api.kite.trade:443 \"GET /quote/ltp?i=NSE%3AIDBI HTTP/1.1\" 200 None\n",
      "DEBUG:urllib3.connectionpool:https://api.kite.trade:443 \"GET /portfolio/positions HTTP/1.1\" 200 None\n",
      "DEBUG:urllib3.connectionpool:https://api.kite.trade:443 \"GET /portfolio/positions HTTP/1.1\" 200 None\n",
      "DEBUG:urllib3.connectionpool:https://api.kite.trade:443 \"GET /portfolio/positions HTTP/1.1\" 200 None\n",
      "DEBUG:urllib3.connectionpool:https://api.kite.trade:443 \"GET /portfolio/positions HTTP/1.1\" 200 None\n",
      "DEBUG:urllib3.connectionpool:https://api.kite.trade:443 \"GET /instruments/historical/377857/minute?from=2023-02-07&to=2023-02-21&interval=minute&continuous=0&oi=0 HTTP/1.1\" 200 46341\n",
      "C:\\ProgramData\\Anaconda3\\lib\\site-packages\\sklearn\\base.py:450: UserWarning: X does not have valid feature names, but LinearRegression was fitted with feature names\n",
      "  warnings.warn(\n",
      "DEBUG:urllib3.connectionpool:https://api.kite.trade:443 \"GET /portfolio/positions HTTP/1.1\" 200 None\n"
     ]
    },
    {
     "name": "stdout",
     "output_type": "stream",
     "text": [
      "Hold\n",
      "count: 3\n",
      "India time: 13:57:37\n"
     ]
    },
    {
     "name": "stderr",
     "output_type": "stream",
     "text": [
      "DEBUG:urllib3.connectionpool:https://api.kite.trade:443 \"GET /quote/ltp?i=NSE%3AIDBI HTTP/1.1\" 200 None\n",
      "DEBUG:urllib3.connectionpool:https://api.kite.trade:443 \"GET /quote/ltp?i=NSE%3AIDBI HTTP/1.1\" 200 None\n",
      "DEBUG:urllib3.connectionpool:https://api.kite.trade:443 \"GET /quote/ltp?i=NSE%3AIDBI HTTP/1.1\" 200 None\n",
      "DEBUG:urllib3.connectionpool:https://api.kite.trade:443 \"GET /quote/ltp?i=NSE%3AIDBI HTTP/1.1\" 200 None\n",
      "DEBUG:urllib3.connectionpool:https://api.kite.trade:443 \"GET /quote/ltp?i=NSE%3AIDBI HTTP/1.1\" 200 None\n",
      "DEBUG:urllib3.connectionpool:https://api.kite.trade:443 \"GET /portfolio/positions HTTP/1.1\" 200 None\n",
      "DEBUG:urllib3.connectionpool:https://api.kite.trade:443 \"GET /portfolio/positions HTTP/1.1\" 200 None\n",
      "DEBUG:urllib3.connectionpool:https://api.kite.trade:443 \"GET /portfolio/positions HTTP/1.1\" 200 None\n",
      "DEBUG:urllib3.connectionpool:https://api.kite.trade:443 \"GET /portfolio/positions HTTP/1.1\" 200 None\n",
      "DEBUG:urllib3.connectionpool:https://api.kite.trade:443 \"GET /instruments/historical/377857/minute?from=2023-02-07&to=2023-02-21&interval=minute&continuous=0&oi=0 HTTP/1.1\" 200 46356\n",
      "C:\\ProgramData\\Anaconda3\\lib\\site-packages\\sklearn\\base.py:450: UserWarning: X does not have valid feature names, but LinearRegression was fitted with feature names\n",
      "  warnings.warn(\n",
      "DEBUG:urllib3.connectionpool:https://api.kite.trade:443 \"GET /portfolio/positions HTTP/1.1\" 200 None\n"
     ]
    },
    {
     "name": "stdout",
     "output_type": "stream",
     "text": [
      "Hold\n",
      "count: 4\n",
      "India time: 13:58:54\n"
     ]
    },
    {
     "name": "stderr",
     "output_type": "stream",
     "text": [
      "DEBUG:urllib3.connectionpool:https://api.kite.trade:443 \"GET /quote/ltp?i=NSE%3AIDBI HTTP/1.1\" 200 None\n",
      "DEBUG:urllib3.connectionpool:https://api.kite.trade:443 \"GET /quote/ltp?i=NSE%3AIDBI HTTP/1.1\" 200 None\n",
      "DEBUG:urllib3.connectionpool:https://api.kite.trade:443 \"GET /quote/ltp?i=NSE%3AIDBI HTTP/1.1\" 200 None\n",
      "DEBUG:urllib3.connectionpool:https://api.kite.trade:443 \"GET /quote/ltp?i=NSE%3AIDBI HTTP/1.1\" 200 None\n",
      "DEBUG:urllib3.connectionpool:https://api.kite.trade:443 \"GET /quote/ltp?i=NSE%3AIDBI HTTP/1.1\" 200 None\n",
      "DEBUG:urllib3.connectionpool:https://api.kite.trade:443 \"GET /portfolio/positions HTTP/1.1\" 200 None\n",
      "DEBUG:urllib3.connectionpool:https://api.kite.trade:443 \"GET /portfolio/positions HTTP/1.1\" 200 None\n",
      "DEBUG:urllib3.connectionpool:https://api.kite.trade:443 \"GET /portfolio/positions HTTP/1.1\" 200 None\n",
      "DEBUG:urllib3.connectionpool:https://api.kite.trade:443 \"GET /portfolio/positions HTTP/1.1\" 200 None\n",
      "DEBUG:urllib3.connectionpool:https://api.kite.trade:443 \"GET /instruments/historical/377857/minute?from=2023-02-07&to=2023-02-21&interval=minute&continuous=0&oi=0 HTTP/1.1\" 200 46375\n",
      "C:\\ProgramData\\Anaconda3\\lib\\site-packages\\sklearn\\base.py:450: UserWarning: X does not have valid feature names, but LinearRegression was fitted with feature names\n",
      "  warnings.warn(\n",
      "DEBUG:urllib3.connectionpool:https://api.kite.trade:443 \"GET /portfolio/positions HTTP/1.1\" 200 None\n"
     ]
    },
    {
     "name": "stdout",
     "output_type": "stream",
     "text": [
      "Hold\n",
      "count: 5\n",
      "India time: 14:00:12\n"
     ]
    },
    {
     "name": "stderr",
     "output_type": "stream",
     "text": [
      "DEBUG:urllib3.connectionpool:https://api.kite.trade:443 \"GET /quote/ltp?i=NSE%3AIDBI HTTP/1.1\" 200 None\n",
      "DEBUG:urllib3.connectionpool:https://api.kite.trade:443 \"GET /quote/ltp?i=NSE%3AIDBI HTTP/1.1\" 200 None\n",
      "DEBUG:urllib3.connectionpool:https://api.kite.trade:443 \"GET /quote/ltp?i=NSE%3AIDBI HTTP/1.1\" 200 None\n",
      "DEBUG:urllib3.connectionpool:https://api.kite.trade:443 \"GET /quote/ltp?i=NSE%3AIDBI HTTP/1.1\" 200 None\n",
      "DEBUG:urllib3.connectionpool:https://api.kite.trade:443 \"GET /quote/ltp?i=NSE%3AIDBI HTTP/1.1\" 200 None\n",
      "DEBUG:urllib3.connectionpool:https://api.kite.trade:443 \"GET /portfolio/positions HTTP/1.1\" 200 None\n",
      "DEBUG:urllib3.connectionpool:https://api.kite.trade:443 \"GET /portfolio/positions HTTP/1.1\" 200 None\n",
      "DEBUG:urllib3.connectionpool:https://api.kite.trade:443 \"GET /portfolio/positions HTTP/1.1\" 200 None\n",
      "DEBUG:urllib3.connectionpool:https://api.kite.trade:443 \"GET /portfolio/positions HTTP/1.1\" 200 None\n",
      "DEBUG:urllib3.connectionpool:https://api.kite.trade:443 \"GET /instruments/historical/377857/minute?from=2023-02-07&to=2023-02-21&interval=minute&continuous=0&oi=0 HTTP/1.1\" 200 46388\n",
      "C:\\ProgramData\\Anaconda3\\lib\\site-packages\\sklearn\\base.py:450: UserWarning: X does not have valid feature names, but LinearRegression was fitted with feature names\n",
      "  warnings.warn(\n",
      "DEBUG:urllib3.connectionpool:https://api.kite.trade:443 \"GET /portfolio/positions HTTP/1.1\" 200 None\n",
      "DEBUG:urllib3.connectionpool:https://api.kite.trade:443 \"GET /portfolio/positions HTTP/1.1\" 200 None\n",
      "DEBUG:urllib3.connectionpool:https://api.kite.trade:443 \"POST /orders/regular HTTP/1.1\" 200 None\n",
      "INFO:root:Order placed. ID is: 230221202356227\n"
     ]
    },
    {
     "name": "stdout",
     "output_type": "stream",
     "text": [
      "sellorder\n",
      "count: 6\n",
      "India time: 14:01:30\n"
     ]
    },
    {
     "name": "stderr",
     "output_type": "stream",
     "text": [
      "DEBUG:urllib3.connectionpool:https://api.kite.trade:443 \"GET /quote/ltp?i=NSE%3AIDBI HTTP/1.1\" 200 None\n",
      "DEBUG:urllib3.connectionpool:https://api.kite.trade:443 \"GET /quote/ltp?i=NSE%3AIDBI HTTP/1.1\" 200 None\n",
      "DEBUG:urllib3.connectionpool:https://api.kite.trade:443 \"GET /quote/ltp?i=NSE%3AIDBI HTTP/1.1\" 200 None\n",
      "DEBUG:urllib3.connectionpool:https://api.kite.trade:443 \"GET /quote/ltp?i=NSE%3AIDBI HTTP/1.1\" 200 None\n",
      "DEBUG:urllib3.connectionpool:https://api.kite.trade:443 \"GET /quote/ltp?i=NSE%3AIDBI HTTP/1.1\" 200 None\n",
      "DEBUG:urllib3.connectionpool:https://api.kite.trade:443 \"GET /portfolio/positions HTTP/1.1\" 200 None\n",
      "DEBUG:urllib3.connectionpool:https://api.kite.trade:443 \"GET /portfolio/positions HTTP/1.1\" 200 None\n",
      "DEBUG:urllib3.connectionpool:https://api.kite.trade:443 \"GET /instruments/historical/377857/minute?from=2023-02-07&to=2023-02-21&interval=minute&continuous=0&oi=0 HTTP/1.1\" 200 46401\n",
      "DEBUG:urllib3.connectionpool:https://api.kite.trade:443 \"GET /portfolio/positions HTTP/1.1\" 200 None\n",
      "DEBUG:urllib3.connectionpool:https://api.kite.trade:443 \"GET /portfolio/positions HTTP/1.1\" 200 None\n",
      "DEBUG:urllib3.connectionpool:https://api.kite.trade:443 \"GET /portfolio/positions HTTP/1.1\" 200 None\n",
      "DEBUG:urllib3.connectionpool:https://api.kite.trade:443 \"GET /portfolio/positions HTTP/1.1\" 200 None\n",
      "DEBUG:urllib3.connectionpool:https://api.kite.trade:443 \"GET /portfolio/positions HTTP/1.1\" 200 None\n",
      "DEBUG:urllib3.connectionpool:https://api.kite.trade:443 \"GET /portfolio/positions HTTP/1.1\" 200 None\n"
     ]
    },
    {
     "name": "stdout",
     "output_type": "stream",
     "text": [
      "No trades placed..\n",
      "count: 7\n",
      "India time: 14:02:48\n"
     ]
    },
    {
     "name": "stderr",
     "output_type": "stream",
     "text": [
      "DEBUG:urllib3.connectionpool:https://api.kite.trade:443 \"GET /quote/ltp?i=NSE%3AIDBI HTTP/1.1\" 200 None\n",
      "DEBUG:urllib3.connectionpool:https://api.kite.trade:443 \"GET /quote/ltp?i=NSE%3AIDBI HTTP/1.1\" 200 None\n",
      "DEBUG:urllib3.connectionpool:https://api.kite.trade:443 \"GET /quote/ltp?i=NSE%3AIDBI HTTP/1.1\" 200 None\n",
      "DEBUG:urllib3.connectionpool:https://api.kite.trade:443 \"GET /quote/ltp?i=NSE%3AIDBI HTTP/1.1\" 200 None\n",
      "DEBUG:urllib3.connectionpool:https://api.kite.trade:443 \"GET /quote/ltp?i=NSE%3AIDBI HTTP/1.1\" 200 None\n",
      "DEBUG:urllib3.connectionpool:https://api.kite.trade:443 \"GET /portfolio/positions HTTP/1.1\" 200 None\n",
      "DEBUG:urllib3.connectionpool:https://api.kite.trade:443 \"GET /portfolio/positions HTTP/1.1\" 200 None\n",
      "DEBUG:urllib3.connectionpool:https://api.kite.trade:443 \"GET /instruments/historical/377857/minute?from=2023-02-07&to=2023-02-21&interval=minute&continuous=0&oi=0 HTTP/1.1\" 200 46418\n",
      "DEBUG:urllib3.connectionpool:https://api.kite.trade:443 \"GET /portfolio/positions HTTP/1.1\" 200 None\n",
      "DEBUG:urllib3.connectionpool:https://api.kite.trade:443 \"GET /portfolio/positions HTTP/1.1\" 200 None\n",
      "DEBUG:urllib3.connectionpool:https://api.kite.trade:443 \"GET /portfolio/positions HTTP/1.1\" 200 None\n",
      "DEBUG:urllib3.connectionpool:https://api.kite.trade:443 \"GET /portfolio/positions HTTP/1.1\" 200 None\n",
      "DEBUG:urllib3.connectionpool:https://api.kite.trade:443 \"GET /portfolio/positions HTTP/1.1\" 200 None\n",
      "DEBUG:urllib3.connectionpool:https://api.kite.trade:443 \"GET /portfolio/positions HTTP/1.1\" 200 None\n"
     ]
    },
    {
     "name": "stdout",
     "output_type": "stream",
     "text": [
      "No trades placed..\n",
      "count: 8\n",
      "India time: 14:04:06\n"
     ]
    },
    {
     "name": "stderr",
     "output_type": "stream",
     "text": [
      "DEBUG:urllib3.connectionpool:https://api.kite.trade:443 \"GET /quote/ltp?i=NSE%3AIDBI HTTP/1.1\" 200 None\n",
      "DEBUG:urllib3.connectionpool:https://api.kite.trade:443 \"GET /quote/ltp?i=NSE%3AIDBI HTTP/1.1\" 200 None\n",
      "DEBUG:urllib3.connectionpool:https://api.kite.trade:443 \"GET /quote/ltp?i=NSE%3AIDBI HTTP/1.1\" 200 None\n",
      "DEBUG:urllib3.connectionpool:https://api.kite.trade:443 \"GET /quote/ltp?i=NSE%3AIDBI HTTP/1.1\" 200 None\n",
      "DEBUG:urllib3.connectionpool:https://api.kite.trade:443 \"GET /quote/ltp?i=NSE%3AIDBI HTTP/1.1\" 200 None\n",
      "DEBUG:urllib3.connectionpool:https://api.kite.trade:443 \"GET /portfolio/positions HTTP/1.1\" 200 None\n",
      "DEBUG:urllib3.connectionpool:https://api.kite.trade:443 \"GET /portfolio/positions HTTP/1.1\" 200 None\n",
      "DEBUG:urllib3.connectionpool:https://api.kite.trade:443 \"GET /instruments/historical/377857/minute?from=2023-02-07&to=2023-02-21&interval=minute&continuous=0&oi=0 HTTP/1.1\" 200 46424\n",
      "DEBUG:urllib3.connectionpool:https://api.kite.trade:443 \"GET /portfolio/positions HTTP/1.1\" 200 None\n",
      "DEBUG:urllib3.connectionpool:https://api.kite.trade:443 \"GET /portfolio/positions HTTP/1.1\" 200 None\n",
      "DEBUG:urllib3.connectionpool:https://api.kite.trade:443 \"GET /portfolio/positions HTTP/1.1\" 200 None\n",
      "DEBUG:urllib3.connectionpool:https://api.kite.trade:443 \"GET /portfolio/positions HTTP/1.1\" 200 None\n",
      "DEBUG:urllib3.connectionpool:https://api.kite.trade:443 \"GET /portfolio/positions HTTP/1.1\" 200 None\n",
      "DEBUG:urllib3.connectionpool:https://api.kite.trade:443 \"GET /portfolio/positions HTTP/1.1\" 200 None\n"
     ]
    },
    {
     "name": "stdout",
     "output_type": "stream",
     "text": [
      "No trades placed..\n",
      "count: 9\n",
      "India time: 14:05:23\n"
     ]
    },
    {
     "name": "stderr",
     "output_type": "stream",
     "text": [
      "DEBUG:urllib3.connectionpool:https://api.kite.trade:443 \"GET /quote/ltp?i=NSE%3AIDBI HTTP/1.1\" 200 None\n",
      "DEBUG:urllib3.connectionpool:https://api.kite.trade:443 \"GET /quote/ltp?i=NSE%3AIDBI HTTP/1.1\" 200 None\n",
      "DEBUG:urllib3.connectionpool:https://api.kite.trade:443 \"GET /quote/ltp?i=NSE%3AIDBI HTTP/1.1\" 200 None\n",
      "DEBUG:urllib3.connectionpool:https://api.kite.trade:443 \"GET /quote/ltp?i=NSE%3AIDBI HTTP/1.1\" 200 None\n",
      "DEBUG:urllib3.connectionpool:https://api.kite.trade:443 \"GET /quote/ltp?i=NSE%3AIDBI HTTP/1.1\" 200 None\n",
      "DEBUG:urllib3.connectionpool:https://api.kite.trade:443 \"GET /portfolio/positions HTTP/1.1\" 200 None\n",
      "DEBUG:urllib3.connectionpool:https://api.kite.trade:443 \"GET /portfolio/positions HTTP/1.1\" 200 None\n",
      "DEBUG:urllib3.connectionpool:https://api.kite.trade:443 \"GET /instruments/historical/377857/minute?from=2023-02-07&to=2023-02-21&interval=minute&continuous=0&oi=0 HTTP/1.1\" 200 46436\n",
      "DEBUG:urllib3.connectionpool:https://api.kite.trade:443 \"GET /portfolio/positions HTTP/1.1\" 200 None\n",
      "DEBUG:urllib3.connectionpool:https://api.kite.trade:443 \"GET /portfolio/positions HTTP/1.1\" 200 None\n",
      "DEBUG:urllib3.connectionpool:https://api.kite.trade:443 \"GET /portfolio/positions HTTP/1.1\" 200 None\n",
      "DEBUG:urllib3.connectionpool:https://api.kite.trade:443 \"GET /portfolio/positions HTTP/1.1\" 200 None\n",
      "DEBUG:urllib3.connectionpool:https://api.kite.trade:443 \"GET /portfolio/positions HTTP/1.1\" 200 None\n",
      "DEBUG:urllib3.connectionpool:https://api.kite.trade:443 \"GET /portfolio/positions HTTP/1.1\" 200 None\n"
     ]
    },
    {
     "name": "stdout",
     "output_type": "stream",
     "text": [
      "No trades placed..\n",
      "count: 10\n",
      "India time: 14:06:42\n"
     ]
    },
    {
     "name": "stderr",
     "output_type": "stream",
     "text": [
      "DEBUG:urllib3.connectionpool:https://api.kite.trade:443 \"GET /quote/ltp?i=NSE%3AIDBI HTTP/1.1\" 200 None\n",
      "DEBUG:urllib3.connectionpool:https://api.kite.trade:443 \"GET /quote/ltp?i=NSE%3AIDBI HTTP/1.1\" 200 None\n",
      "DEBUG:urllib3.connectionpool:https://api.kite.trade:443 \"GET /quote/ltp?i=NSE%3AIDBI HTTP/1.1\" 200 None\n",
      "DEBUG:urllib3.connectionpool:https://api.kite.trade:443 \"GET /quote/ltp?i=NSE%3AIDBI HTTP/1.1\" 200 None\n",
      "DEBUG:urllib3.connectionpool:https://api.kite.trade:443 \"GET /quote/ltp?i=NSE%3AIDBI HTTP/1.1\" 200 None\n",
      "DEBUG:urllib3.connectionpool:https://api.kite.trade:443 \"GET /portfolio/positions HTTP/1.1\" 200 None\n",
      "DEBUG:urllib3.connectionpool:https://api.kite.trade:443 \"GET /portfolio/positions HTTP/1.1\" 200 None\n",
      "DEBUG:urllib3.connectionpool:https://api.kite.trade:443 \"GET /instruments/historical/377857/minute?from=2023-02-07&to=2023-02-21&interval=minute&continuous=0&oi=0 HTTP/1.1\" 200 46445\n",
      "DEBUG:urllib3.connectionpool:https://api.kite.trade:443 \"GET /portfolio/positions HTTP/1.1\" 200 None\n",
      "DEBUG:urllib3.connectionpool:https://api.kite.trade:443 \"GET /portfolio/positions HTTP/1.1\" 200 None\n",
      "DEBUG:urllib3.connectionpool:https://api.kite.trade:443 \"GET /portfolio/positions HTTP/1.1\" 200 None\n",
      "DEBUG:urllib3.connectionpool:https://api.kite.trade:443 \"GET /portfolio/positions HTTP/1.1\" 200 None\n",
      "DEBUG:urllib3.connectionpool:https://api.kite.trade:443 \"GET /portfolio/positions HTTP/1.1\" 200 None\n",
      "DEBUG:urllib3.connectionpool:https://api.kite.trade:443 \"GET /portfolio/positions HTTP/1.1\" 200 None\n"
     ]
    },
    {
     "name": "stdout",
     "output_type": "stream",
     "text": [
      "No trades placed..\n",
      "count: 11\n",
      "India time: 14:08:00\n"
     ]
    },
    {
     "name": "stderr",
     "output_type": "stream",
     "text": [
      "DEBUG:urllib3.connectionpool:https://api.kite.trade:443 \"GET /quote/ltp?i=NSE%3AIDBI HTTP/1.1\" 200 None\n",
      "DEBUG:urllib3.connectionpool:https://api.kite.trade:443 \"GET /quote/ltp?i=NSE%3AIDBI HTTP/1.1\" 200 None\n",
      "DEBUG:urllib3.connectionpool:https://api.kite.trade:443 \"GET /quote/ltp?i=NSE%3AIDBI HTTP/1.1\" 200 None\n",
      "DEBUG:urllib3.connectionpool:https://api.kite.trade:443 \"GET /quote/ltp?i=NSE%3AIDBI HTTP/1.1\" 200 None\n",
      "DEBUG:urllib3.connectionpool:https://api.kite.trade:443 \"GET /quote/ltp?i=NSE%3AIDBI HTTP/1.1\" 200 None\n",
      "DEBUG:urllib3.connectionpool:https://api.kite.trade:443 \"GET /portfolio/positions HTTP/1.1\" 200 None\n",
      "DEBUG:urllib3.connectionpool:https://api.kite.trade:443 \"GET /portfolio/positions HTTP/1.1\" 200 None\n",
      "DEBUG:urllib3.connectionpool:https://api.kite.trade:443 \"GET /instruments/historical/377857/minute?from=2023-02-07&to=2023-02-21&interval=minute&continuous=0&oi=0 HTTP/1.1\" 200 46463\n",
      "DEBUG:urllib3.connectionpool:https://api.kite.trade:443 \"GET /portfolio/positions HTTP/1.1\" 200 None\n",
      "DEBUG:urllib3.connectionpool:https://api.kite.trade:443 \"GET /portfolio/positions HTTP/1.1\" 200 None\n",
      "DEBUG:urllib3.connectionpool:https://api.kite.trade:443 \"GET /portfolio/positions HTTP/1.1\" 200 None\n",
      "DEBUG:urllib3.connectionpool:https://api.kite.trade:443 \"GET /portfolio/positions HTTP/1.1\" 200 None\n",
      "DEBUG:urllib3.connectionpool:https://api.kite.trade:443 \"GET /portfolio/positions HTTP/1.1\" 200 None\n",
      "DEBUG:urllib3.connectionpool:https://api.kite.trade:443 \"GET /portfolio/positions HTTP/1.1\" 200 None\n"
     ]
    },
    {
     "name": "stdout",
     "output_type": "stream",
     "text": [
      "No trades placed..\n",
      "count: 12\n",
      "India time: 14:09:17\n"
     ]
    },
    {
     "name": "stderr",
     "output_type": "stream",
     "text": [
      "DEBUG:urllib3.connectionpool:https://api.kite.trade:443 \"GET /quote/ltp?i=NSE%3AIDBI HTTP/1.1\" 200 None\n",
      "DEBUG:urllib3.connectionpool:https://api.kite.trade:443 \"GET /quote/ltp?i=NSE%3AIDBI HTTP/1.1\" 200 None\n",
      "DEBUG:urllib3.connectionpool:https://api.kite.trade:443 \"GET /quote/ltp?i=NSE%3AIDBI HTTP/1.1\" 200 None\n",
      "DEBUG:urllib3.connectionpool:https://api.kite.trade:443 \"GET /quote/ltp?i=NSE%3AIDBI HTTP/1.1\" 200 None\n",
      "DEBUG:urllib3.connectionpool:https://api.kite.trade:443 \"GET /quote/ltp?i=NSE%3AIDBI HTTP/1.1\" 200 None\n",
      "DEBUG:urllib3.connectionpool:https://api.kite.trade:443 \"GET /portfolio/positions HTTP/1.1\" 200 None\n",
      "DEBUG:urllib3.connectionpool:https://api.kite.trade:443 \"GET /portfolio/positions HTTP/1.1\" 200 None\n",
      "DEBUG:urllib3.connectionpool:https://api.kite.trade:443 \"GET /instruments/historical/377857/minute?from=2023-02-07&to=2023-02-21&interval=minute&continuous=0&oi=0 HTTP/1.1\" 200 46482\n",
      "DEBUG:urllib3.connectionpool:https://api.kite.trade:443 \"GET /portfolio/positions HTTP/1.1\" 200 None\n",
      "DEBUG:urllib3.connectionpool:https://api.kite.trade:443 \"GET /portfolio/positions HTTP/1.1\" 200 None\n",
      "DEBUG:urllib3.connectionpool:https://api.kite.trade:443 \"GET /portfolio/positions HTTP/1.1\" 200 None\n",
      "DEBUG:urllib3.connectionpool:https://api.kite.trade:443 \"GET /portfolio/positions HTTP/1.1\" 200 None\n",
      "DEBUG:urllib3.connectionpool:https://api.kite.trade:443 \"GET /portfolio/positions HTTP/1.1\" 200 None\n",
      "DEBUG:urllib3.connectionpool:https://api.kite.trade:443 \"GET /portfolio/positions HTTP/1.1\" 200 None\n"
     ]
    },
    {
     "name": "stdout",
     "output_type": "stream",
     "text": [
      "No trades placed..\n",
      "count: 13\n",
      "India time: 14:10:35\n"
     ]
    },
    {
     "name": "stderr",
     "output_type": "stream",
     "text": [
      "DEBUG:urllib3.connectionpool:https://api.kite.trade:443 \"GET /quote/ltp?i=NSE%3AIDBI HTTP/1.1\" 200 None\n",
      "DEBUG:urllib3.connectionpool:https://api.kite.trade:443 \"GET /quote/ltp?i=NSE%3AIDBI HTTP/1.1\" 200 None\n",
      "DEBUG:urllib3.connectionpool:https://api.kite.trade:443 \"GET /quote/ltp?i=NSE%3AIDBI HTTP/1.1\" 200 None\n",
      "DEBUG:urllib3.connectionpool:https://api.kite.trade:443 \"GET /quote/ltp?i=NSE%3AIDBI HTTP/1.1\" 200 None\n",
      "DEBUG:urllib3.connectionpool:https://api.kite.trade:443 \"GET /quote/ltp?i=NSE%3AIDBI HTTP/1.1\" 200 None\n",
      "DEBUG:urllib3.connectionpool:https://api.kite.trade:443 \"GET /portfolio/positions HTTP/1.1\" 200 None\n",
      "DEBUG:urllib3.connectionpool:https://api.kite.trade:443 \"GET /portfolio/positions HTTP/1.1\" 200 None\n",
      "DEBUG:urllib3.connectionpool:https://api.kite.trade:443 \"GET /instruments/historical/377857/minute?from=2023-02-07&to=2023-02-21&interval=minute&continuous=0&oi=0 HTTP/1.1\" 200 46492\n",
      "DEBUG:urllib3.connectionpool:https://api.kite.trade:443 \"GET /portfolio/positions HTTP/1.1\" 200 None\n",
      "DEBUG:urllib3.connectionpool:https://api.kite.trade:443 \"GET /portfolio/positions HTTP/1.1\" 200 None\n",
      "DEBUG:urllib3.connectionpool:https://api.kite.trade:443 \"GET /portfolio/positions HTTP/1.1\" 200 None\n",
      "DEBUG:urllib3.connectionpool:https://api.kite.trade:443 \"GET /portfolio/positions HTTP/1.1\" 200 None\n",
      "DEBUG:urllib3.connectionpool:https://api.kite.trade:443 \"GET /portfolio/positions HTTP/1.1\" 200 None\n",
      "DEBUG:urllib3.connectionpool:https://api.kite.trade:443 \"GET /portfolio/positions HTTP/1.1\" 200 None\n"
     ]
    },
    {
     "name": "stdout",
     "output_type": "stream",
     "text": [
      "No trades placed..\n",
      "count: 14\n",
      "India time: 14:11:53\n"
     ]
    },
    {
     "name": "stderr",
     "output_type": "stream",
     "text": [
      "DEBUG:urllib3.connectionpool:https://api.kite.trade:443 \"GET /quote/ltp?i=NSE%3AIDBI HTTP/1.1\" 200 None\n",
      "DEBUG:urllib3.connectionpool:https://api.kite.trade:443 \"GET /quote/ltp?i=NSE%3AIDBI HTTP/1.1\" 200 None\n",
      "DEBUG:urllib3.connectionpool:https://api.kite.trade:443 \"GET /quote/ltp?i=NSE%3AIDBI HTTP/1.1\" 200 None\n",
      "DEBUG:urllib3.connectionpool:https://api.kite.trade:443 \"GET /quote/ltp?i=NSE%3AIDBI HTTP/1.1\" 200 None\n",
      "DEBUG:urllib3.connectionpool:https://api.kite.trade:443 \"GET /quote/ltp?i=NSE%3AIDBI HTTP/1.1\" 200 None\n",
      "DEBUG:urllib3.connectionpool:https://api.kite.trade:443 \"GET /portfolio/positions HTTP/1.1\" 200 None\n",
      "DEBUG:urllib3.connectionpool:https://api.kite.trade:443 \"GET /portfolio/positions HTTP/1.1\" 200 None\n",
      "DEBUG:urllib3.connectionpool:https://api.kite.trade:443 \"GET /instruments/historical/377857/minute?from=2023-02-07&to=2023-02-21&interval=minute&continuous=0&oi=0 HTTP/1.1\" 200 46515\n",
      "DEBUG:urllib3.connectionpool:https://api.kite.trade:443 \"GET /portfolio/positions HTTP/1.1\" 200 None\n",
      "DEBUG:urllib3.connectionpool:https://api.kite.trade:443 \"GET /portfolio/positions HTTP/1.1\" 200 None\n",
      "DEBUG:urllib3.connectionpool:https://api.kite.trade:443 \"GET /portfolio/positions HTTP/1.1\" 200 None\n",
      "DEBUG:urllib3.connectionpool:https://api.kite.trade:443 \"GET /portfolio/positions HTTP/1.1\" 200 None\n",
      "DEBUG:urllib3.connectionpool:https://api.kite.trade:443 \"GET /portfolio/positions HTTP/1.1\" 200 None\n",
      "DEBUG:urllib3.connectionpool:https://api.kite.trade:443 \"GET /portfolio/positions HTTP/1.1\" 200 None\n"
     ]
    },
    {
     "name": "stdout",
     "output_type": "stream",
     "text": [
      "No trades placed..\n",
      "count: 15\n",
      "India time: 14:13:11\n"
     ]
    },
    {
     "name": "stderr",
     "output_type": "stream",
     "text": [
      "DEBUG:urllib3.connectionpool:https://api.kite.trade:443 \"GET /quote/ltp?i=NSE%3AIDBI HTTP/1.1\" 200 None\n",
      "DEBUG:urllib3.connectionpool:https://api.kite.trade:443 \"GET /quote/ltp?i=NSE%3AIDBI HTTP/1.1\" 200 None\n",
      "DEBUG:urllib3.connectionpool:https://api.kite.trade:443 \"GET /quote/ltp?i=NSE%3AIDBI HTTP/1.1\" 200 None\n",
      "DEBUG:urllib3.connectionpool:https://api.kite.trade:443 \"GET /quote/ltp?i=NSE%3AIDBI HTTP/1.1\" 200 None\n",
      "DEBUG:urllib3.connectionpool:https://api.kite.trade:443 \"GET /quote/ltp?i=NSE%3AIDBI HTTP/1.1\" 200 None\n",
      "DEBUG:urllib3.connectionpool:https://api.kite.trade:443 \"GET /portfolio/positions HTTP/1.1\" 200 None\n",
      "DEBUG:urllib3.connectionpool:https://api.kite.trade:443 \"GET /portfolio/positions HTTP/1.1\" 200 None\n",
      "DEBUG:urllib3.connectionpool:https://api.kite.trade:443 \"GET /instruments/historical/377857/minute?from=2023-02-07&to=2023-02-21&interval=minute&continuous=0&oi=0 HTTP/1.1\" 200 46519\n",
      "DEBUG:urllib3.connectionpool:https://api.kite.trade:443 \"GET /portfolio/positions HTTP/1.1\" 200 None\n",
      "DEBUG:urllib3.connectionpool:https://api.kite.trade:443 \"GET /portfolio/positions HTTP/1.1\" 200 None\n",
      "DEBUG:urllib3.connectionpool:https://api.kite.trade:443 \"GET /portfolio/positions HTTP/1.1\" 200 None\n",
      "DEBUG:urllib3.connectionpool:https://api.kite.trade:443 \"GET /portfolio/positions HTTP/1.1\" 200 None\n",
      "DEBUG:urllib3.connectionpool:https://api.kite.trade:443 \"GET /portfolio/positions HTTP/1.1\" 200 None\n",
      "DEBUG:urllib3.connectionpool:https://api.kite.trade:443 \"GET /portfolio/positions HTTP/1.1\" 200 None\n"
     ]
    },
    {
     "name": "stdout",
     "output_type": "stream",
     "text": [
      "No trades placed..\n",
      "count: 16\n",
      "India time: 14:14:28\n"
     ]
    },
    {
     "name": "stderr",
     "output_type": "stream",
     "text": [
      "DEBUG:urllib3.connectionpool:https://api.kite.trade:443 \"GET /quote/ltp?i=NSE%3AIDBI HTTP/1.1\" 200 None\n",
      "DEBUG:urllib3.connectionpool:https://api.kite.trade:443 \"GET /quote/ltp?i=NSE%3AIDBI HTTP/1.1\" 200 None\n",
      "DEBUG:urllib3.connectionpool:https://api.kite.trade:443 \"GET /quote/ltp?i=NSE%3AIDBI HTTP/1.1\" 200 None\n",
      "DEBUG:urllib3.connectionpool:https://api.kite.trade:443 \"GET /quote/ltp?i=NSE%3AIDBI HTTP/1.1\" 200 None\n",
      "DEBUG:urllib3.connectionpool:https://api.kite.trade:443 \"GET /quote/ltp?i=NSE%3AIDBI HTTP/1.1\" 200 None\n",
      "DEBUG:urllib3.connectionpool:https://api.kite.trade:443 \"GET /portfolio/positions HTTP/1.1\" 200 None\n",
      "DEBUG:urllib3.connectionpool:https://api.kite.trade:443 \"GET /portfolio/positions HTTP/1.1\" 200 None\n",
      "DEBUG:urllib3.connectionpool:https://api.kite.trade:443 \"GET /instruments/historical/377857/minute?from=2023-02-07&to=2023-02-21&interval=minute&continuous=0&oi=0 HTTP/1.1\" 200 46532\n",
      "DEBUG:urllib3.connectionpool:https://api.kite.trade:443 \"GET /portfolio/positions HTTP/1.1\" 200 None\n",
      "DEBUG:urllib3.connectionpool:https://api.kite.trade:443 \"GET /portfolio/positions HTTP/1.1\" 200 None\n",
      "DEBUG:urllib3.connectionpool:https://api.kite.trade:443 \"GET /portfolio/positions HTTP/1.1\" 200 None\n",
      "DEBUG:urllib3.connectionpool:https://api.kite.trade:443 \"GET /portfolio/positions HTTP/1.1\" 200 None\n",
      "DEBUG:urllib3.connectionpool:https://api.kite.trade:443 \"GET /portfolio/positions HTTP/1.1\" 200 None\n",
      "DEBUG:urllib3.connectionpool:https://api.kite.trade:443 \"GET /portfolio/positions HTTP/1.1\" 200 None\n"
     ]
    },
    {
     "name": "stdout",
     "output_type": "stream",
     "text": [
      "No trades placed..\n",
      "count: 17\n",
      "India time: 14:15:46\n"
     ]
    },
    {
     "name": "stderr",
     "output_type": "stream",
     "text": [
      "DEBUG:urllib3.connectionpool:https://api.kite.trade:443 \"GET /quote/ltp?i=NSE%3AIDBI HTTP/1.1\" 200 None\n",
      "DEBUG:urllib3.connectionpool:https://api.kite.trade:443 \"GET /quote/ltp?i=NSE%3AIDBI HTTP/1.1\" 200 None\n",
      "DEBUG:urllib3.connectionpool:https://api.kite.trade:443 \"GET /quote/ltp?i=NSE%3AIDBI HTTP/1.1\" 200 None\n",
      "DEBUG:urllib3.connectionpool:https://api.kite.trade:443 \"GET /quote/ltp?i=NSE%3AIDBI HTTP/1.1\" 200 None\n",
      "DEBUG:urllib3.connectionpool:https://api.kite.trade:443 \"GET /quote/ltp?i=NSE%3AIDBI HTTP/1.1\" 200 None\n",
      "DEBUG:urllib3.connectionpool:https://api.kite.trade:443 \"GET /portfolio/positions HTTP/1.1\" 200 None\n",
      "DEBUG:urllib3.connectionpool:https://api.kite.trade:443 \"GET /portfolio/positions HTTP/1.1\" 200 None\n",
      "DEBUG:urllib3.connectionpool:https://api.kite.trade:443 \"GET /instruments/historical/377857/minute?from=2023-02-07&to=2023-02-21&interval=minute&continuous=0&oi=0 HTTP/1.1\" 200 46544\n",
      "DEBUG:urllib3.connectionpool:https://api.kite.trade:443 \"GET /portfolio/positions HTTP/1.1\" 200 None\n",
      "DEBUG:urllib3.connectionpool:https://api.kite.trade:443 \"GET /portfolio/positions HTTP/1.1\" 200 None\n",
      "DEBUG:urllib3.connectionpool:https://api.kite.trade:443 \"GET /portfolio/positions HTTP/1.1\" 200 None\n",
      "DEBUG:urllib3.connectionpool:https://api.kite.trade:443 \"GET /portfolio/positions HTTP/1.1\" 200 None\n",
      "DEBUG:urllib3.connectionpool:https://api.kite.trade:443 \"GET /portfolio/positions HTTP/1.1\" 200 None\n",
      "DEBUG:urllib3.connectionpool:https://api.kite.trade:443 \"GET /portfolio/positions HTTP/1.1\" 200 None\n"
     ]
    },
    {
     "name": "stdout",
     "output_type": "stream",
     "text": [
      "No trades placed..\n",
      "count: 18\n",
      "India time: 14:17:04\n"
     ]
    },
    {
     "name": "stderr",
     "output_type": "stream",
     "text": [
      "DEBUG:urllib3.connectionpool:https://api.kite.trade:443 \"GET /quote/ltp?i=NSE%3AIDBI HTTP/1.1\" 200 None\n",
      "DEBUG:urllib3.connectionpool:https://api.kite.trade:443 \"GET /quote/ltp?i=NSE%3AIDBI HTTP/1.1\" 200 None\n",
      "DEBUG:urllib3.connectionpool:https://api.kite.trade:443 \"GET /quote/ltp?i=NSE%3AIDBI HTTP/1.1\" 200 None\n",
      "DEBUG:urllib3.connectionpool:https://api.kite.trade:443 \"GET /quote/ltp?i=NSE%3AIDBI HTTP/1.1\" 200 None\n",
      "DEBUG:urllib3.connectionpool:https://api.kite.trade:443 \"GET /quote/ltp?i=NSE%3AIDBI HTTP/1.1\" 200 None\n",
      "DEBUG:urllib3.connectionpool:https://api.kite.trade:443 \"GET /portfolio/positions HTTP/1.1\" 200 None\n",
      "DEBUG:urllib3.connectionpool:https://api.kite.trade:443 \"GET /portfolio/positions HTTP/1.1\" 200 None\n",
      "DEBUG:urllib3.connectionpool:https://api.kite.trade:443 \"GET /instruments/historical/377857/minute?from=2023-02-07&to=2023-02-21&interval=minute&continuous=0&oi=0 HTTP/1.1\" 200 46565\n",
      "DEBUG:urllib3.connectionpool:https://api.kite.trade:443 \"GET /orders HTTP/1.1\" 200 None\n",
      "DEBUG:urllib3.connectionpool:https://api.kite.trade:443 \"POST /orders/regular HTTP/1.1\" 200 None\n",
      "INFO:root:Order placed. ID is: 230221202455842\n"
     ]
    },
    {
     "name": "stdout",
     "output_type": "stream",
     "text": [
      "Buy order\n",
      "count: 19\n",
      "India time: 14:18:21\n"
     ]
    },
    {
     "name": "stderr",
     "output_type": "stream",
     "text": [
      "DEBUG:urllib3.connectionpool:https://api.kite.trade:443 \"GET /quote/ltp?i=NSE%3AIDBI HTTP/1.1\" 200 None\n",
      "DEBUG:urllib3.connectionpool:https://api.kite.trade:443 \"GET /quote/ltp?i=NSE%3AIDBI HTTP/1.1\" 200 None\n",
      "DEBUG:urllib3.connectionpool:https://api.kite.trade:443 \"GET /quote/ltp?i=NSE%3AIDBI HTTP/1.1\" 200 None\n",
      "DEBUG:urllib3.connectionpool:https://api.kite.trade:443 \"GET /quote/ltp?i=NSE%3AIDBI HTTP/1.1\" 200 None\n",
      "DEBUG:urllib3.connectionpool:https://api.kite.trade:443 \"GET /quote/ltp?i=NSE%3AIDBI HTTP/1.1\" 200 None\n",
      "DEBUG:urllib3.connectionpool:https://api.kite.trade:443 \"GET /portfolio/positions HTTP/1.1\" 200 None\n",
      "DEBUG:urllib3.connectionpool:https://api.kite.trade:443 \"GET /portfolio/positions HTTP/1.1\" 200 None\n",
      "DEBUG:urllib3.connectionpool:https://api.kite.trade:443 \"GET /portfolio/positions HTTP/1.1\" 200 None\n",
      "DEBUG:urllib3.connectionpool:https://api.kite.trade:443 \"GET /portfolio/positions HTTP/1.1\" 200 None\n",
      "DEBUG:urllib3.connectionpool:https://api.kite.trade:443 \"GET /instruments/historical/377857/minute?from=2023-02-07&to=2023-02-21&interval=minute&continuous=0&oi=0 HTTP/1.1\" 200 46573\n",
      "C:\\ProgramData\\Anaconda3\\lib\\site-packages\\sklearn\\base.py:450: UserWarning: X does not have valid feature names, but LinearRegression was fitted with feature names\n",
      "  warnings.warn(\n",
      "DEBUG:urllib3.connectionpool:https://api.kite.trade:443 \"GET /portfolio/positions HTTP/1.1\" 200 None\n"
     ]
    },
    {
     "name": "stdout",
     "output_type": "stream",
     "text": [
      "Hold\n",
      "count: 20\n",
      "India time: 14:19:38\n"
     ]
    },
    {
     "name": "stderr",
     "output_type": "stream",
     "text": [
      "DEBUG:urllib3.connectionpool:https://api.kite.trade:443 \"GET /quote/ltp?i=NSE%3AIDBI HTTP/1.1\" 200 None\n",
      "DEBUG:urllib3.connectionpool:https://api.kite.trade:443 \"GET /quote/ltp?i=NSE%3AIDBI HTTP/1.1\" 200 None\n",
      "DEBUG:urllib3.connectionpool:https://api.kite.trade:443 \"GET /quote/ltp?i=NSE%3AIDBI HTTP/1.1\" 200 None\n",
      "DEBUG:urllib3.connectionpool:https://api.kite.trade:443 \"GET /quote/ltp?i=NSE%3AIDBI HTTP/1.1\" 200 None\n",
      "DEBUG:urllib3.connectionpool:https://api.kite.trade:443 \"GET /quote/ltp?i=NSE%3AIDBI HTTP/1.1\" 200 None\n",
      "DEBUG:urllib3.connectionpool:https://api.kite.trade:443 \"GET /portfolio/positions HTTP/1.1\" 200 None\n",
      "DEBUG:urllib3.connectionpool:https://api.kite.trade:443 \"GET /portfolio/positions HTTP/1.1\" 200 None\n",
      "DEBUG:urllib3.connectionpool:https://api.kite.trade:443 \"GET /portfolio/positions HTTP/1.1\" 200 None\n",
      "DEBUG:urllib3.connectionpool:https://api.kite.trade:443 \"GET /portfolio/positions HTTP/1.1\" 200 None\n",
      "DEBUG:urllib3.connectionpool:https://api.kite.trade:443 \"GET /instruments/historical/377857/minute?from=2023-02-07&to=2023-02-21&interval=minute&continuous=0&oi=0 HTTP/1.1\" 200 46583\n",
      "C:\\ProgramData\\Anaconda3\\lib\\site-packages\\sklearn\\base.py:450: UserWarning: X does not have valid feature names, but LinearRegression was fitted with feature names\n",
      "  warnings.warn(\n",
      "DEBUG:urllib3.connectionpool:https://api.kite.trade:443 \"GET /portfolio/positions HTTP/1.1\" 200 None\n"
     ]
    },
    {
     "name": "stdout",
     "output_type": "stream",
     "text": [
      "Hold\n",
      "count: 21\n",
      "India time: 14:20:56\n"
     ]
    },
    {
     "name": "stderr",
     "output_type": "stream",
     "text": [
      "DEBUG:urllib3.connectionpool:https://api.kite.trade:443 \"GET /quote/ltp?i=NSE%3AIDBI HTTP/1.1\" 200 None\n",
      "DEBUG:urllib3.connectionpool:https://api.kite.trade:443 \"GET /quote/ltp?i=NSE%3AIDBI HTTP/1.1\" 200 None\n",
      "DEBUG:urllib3.connectionpool:https://api.kite.trade:443 \"GET /quote/ltp?i=NSE%3AIDBI HTTP/1.1\" 200 None\n",
      "DEBUG:urllib3.connectionpool:https://api.kite.trade:443 \"GET /quote/ltp?i=NSE%3AIDBI HTTP/1.1\" 200 None\n",
      "DEBUG:urllib3.connectionpool:https://api.kite.trade:443 \"GET /quote/ltp?i=NSE%3AIDBI HTTP/1.1\" 200 None\n",
      "DEBUG:urllib3.connectionpool:https://api.kite.trade:443 \"GET /portfolio/positions HTTP/1.1\" 200 None\n",
      "DEBUG:urllib3.connectionpool:https://api.kite.trade:443 \"GET /portfolio/positions HTTP/1.1\" 200 None\n",
      "DEBUG:urllib3.connectionpool:https://api.kite.trade:443 \"GET /portfolio/positions HTTP/1.1\" 200 None\n",
      "DEBUG:urllib3.connectionpool:https://api.kite.trade:443 \"GET /portfolio/positions HTTP/1.1\" 200 None\n",
      "DEBUG:urllib3.connectionpool:https://api.kite.trade:443 \"GET /instruments/historical/377857/minute?from=2023-02-07&to=2023-02-21&interval=minute&continuous=0&oi=0 HTTP/1.1\" 200 46603\n",
      "C:\\ProgramData\\Anaconda3\\lib\\site-packages\\sklearn\\base.py:450: UserWarning: X does not have valid feature names, but LinearRegression was fitted with feature names\n",
      "  warnings.warn(\n",
      "DEBUG:urllib3.connectionpool:https://api.kite.trade:443 \"GET /portfolio/positions HTTP/1.1\" 200 None\n"
     ]
    },
    {
     "name": "stdout",
     "output_type": "stream",
     "text": [
      "Hold\n",
      "count: 22\n",
      "India time: 14:22:13\n"
     ]
    },
    {
     "name": "stderr",
     "output_type": "stream",
     "text": [
      "DEBUG:urllib3.connectionpool:https://api.kite.trade:443 \"GET /quote/ltp?i=NSE%3AIDBI HTTP/1.1\" 200 None\n",
      "DEBUG:urllib3.connectionpool:https://api.kite.trade:443 \"GET /quote/ltp?i=NSE%3AIDBI HTTP/1.1\" 200 None\n",
      "DEBUG:urllib3.connectionpool:https://api.kite.trade:443 \"GET /quote/ltp?i=NSE%3AIDBI HTTP/1.1\" 200 None\n",
      "DEBUG:urllib3.connectionpool:https://api.kite.trade:443 \"GET /quote/ltp?i=NSE%3AIDBI HTTP/1.1\" 200 None\n",
      "DEBUG:urllib3.connectionpool:https://api.kite.trade:443 \"GET /quote/ltp?i=NSE%3AIDBI HTTP/1.1\" 200 None\n",
      "DEBUG:urllib3.connectionpool:https://api.kite.trade:443 \"GET /portfolio/positions HTTP/1.1\" 200 None\n",
      "DEBUG:urllib3.connectionpool:https://api.kite.trade:443 \"GET /portfolio/positions HTTP/1.1\" 200 None\n",
      "DEBUG:urllib3.connectionpool:https://api.kite.trade:443 \"GET /portfolio/positions HTTP/1.1\" 200 None\n",
      "DEBUG:urllib3.connectionpool:https://api.kite.trade:443 \"GET /portfolio/positions HTTP/1.1\" 200 None\n",
      "DEBUG:urllib3.connectionpool:https://api.kite.trade:443 \"GET /instruments/historical/377857/minute?from=2023-02-07&to=2023-02-21&interval=minute&continuous=0&oi=0 HTTP/1.1\" 200 46616\n",
      "C:\\ProgramData\\Anaconda3\\lib\\site-packages\\sklearn\\base.py:450: UserWarning: X does not have valid feature names, but LinearRegression was fitted with feature names\n",
      "  warnings.warn(\n",
      "DEBUG:urllib3.connectionpool:https://api.kite.trade:443 \"GET /portfolio/positions HTTP/1.1\" 200 None\n"
     ]
    },
    {
     "name": "stdout",
     "output_type": "stream",
     "text": [
      "Hold\n",
      "count: 23\n",
      "India time: 14:23:31\n"
     ]
    },
    {
     "name": "stderr",
     "output_type": "stream",
     "text": [
      "DEBUG:urllib3.connectionpool:https://api.kite.trade:443 \"GET /quote/ltp?i=NSE%3AIDBI HTTP/1.1\" 200 None\n",
      "DEBUG:urllib3.connectionpool:https://api.kite.trade:443 \"GET /quote/ltp?i=NSE%3AIDBI HTTP/1.1\" 200 None\n",
      "DEBUG:urllib3.connectionpool:https://api.kite.trade:443 \"GET /quote/ltp?i=NSE%3AIDBI HTTP/1.1\" 200 None\n",
      "DEBUG:urllib3.connectionpool:https://api.kite.trade:443 \"GET /quote/ltp?i=NSE%3AIDBI HTTP/1.1\" 200 None\n",
      "DEBUG:urllib3.connectionpool:https://api.kite.trade:443 \"GET /quote/ltp?i=NSE%3AIDBI HTTP/1.1\" 200 None\n",
      "DEBUG:urllib3.connectionpool:https://api.kite.trade:443 \"GET /portfolio/positions HTTP/1.1\" 200 None\n",
      "DEBUG:urllib3.connectionpool:https://api.kite.trade:443 \"GET /portfolio/positions HTTP/1.1\" 200 None\n",
      "DEBUG:urllib3.connectionpool:https://api.kite.trade:443 \"GET /portfolio/positions HTTP/1.1\" 200 None\n",
      "DEBUG:urllib3.connectionpool:https://api.kite.trade:443 \"GET /portfolio/positions HTTP/1.1\" 200 None\n",
      "DEBUG:urllib3.connectionpool:https://api.kite.trade:443 \"GET /instruments/historical/377857/minute?from=2023-02-07&to=2023-02-21&interval=minute&continuous=0&oi=0 HTTP/1.1\" 200 46623\n",
      "C:\\ProgramData\\Anaconda3\\lib\\site-packages\\sklearn\\base.py:450: UserWarning: X does not have valid feature names, but LinearRegression was fitted with feature names\n",
      "  warnings.warn(\n",
      "DEBUG:urllib3.connectionpool:https://api.kite.trade:443 \"GET /portfolio/positions HTTP/1.1\" 200 None\n"
     ]
    },
    {
     "name": "stdout",
     "output_type": "stream",
     "text": [
      "Hold\n",
      "count: 24\n",
      "India time: 14:24:47\n"
     ]
    },
    {
     "name": "stderr",
     "output_type": "stream",
     "text": [
      "DEBUG:urllib3.connectionpool:https://api.kite.trade:443 \"GET /quote/ltp?i=NSE%3AIDBI HTTP/1.1\" 200 None\n",
      "DEBUG:urllib3.connectionpool:https://api.kite.trade:443 \"GET /quote/ltp?i=NSE%3AIDBI HTTP/1.1\" 200 None\n",
      "DEBUG:urllib3.connectionpool:https://api.kite.trade:443 \"GET /quote/ltp?i=NSE%3AIDBI HTTP/1.1\" 200 None\n",
      "DEBUG:urllib3.connectionpool:https://api.kite.trade:443 \"GET /quote/ltp?i=NSE%3AIDBI HTTP/1.1\" 200 None\n",
      "DEBUG:urllib3.connectionpool:https://api.kite.trade:443 \"GET /quote/ltp?i=NSE%3AIDBI HTTP/1.1\" 200 None\n",
      "DEBUG:urllib3.connectionpool:https://api.kite.trade:443 \"GET /portfolio/positions HTTP/1.1\" 200 None\n",
      "DEBUG:urllib3.connectionpool:https://api.kite.trade:443 \"GET /portfolio/positions HTTP/1.1\" 200 None\n",
      "DEBUG:urllib3.connectionpool:https://api.kite.trade:443 \"GET /portfolio/positions HTTP/1.1\" 200 None\n",
      "DEBUG:urllib3.connectionpool:https://api.kite.trade:443 \"GET /portfolio/positions HTTP/1.1\" 200 None\n",
      "DEBUG:urllib3.connectionpool:https://api.kite.trade:443 \"GET /instruments/historical/377857/minute?from=2023-02-07&to=2023-02-21&interval=minute&continuous=0&oi=0 HTTP/1.1\" 200 46644\n",
      "C:\\ProgramData\\Anaconda3\\lib\\site-packages\\sklearn\\base.py:450: UserWarning: X does not have valid feature names, but LinearRegression was fitted with feature names\n",
      "  warnings.warn(\n",
      "DEBUG:urllib3.connectionpool:https://api.kite.trade:443 \"GET /portfolio/positions HTTP/1.1\" 200 None\n",
      "DEBUG:urllib3.connectionpool:https://api.kite.trade:443 \"GET /portfolio/positions HTTP/1.1\" 200 None\n",
      "DEBUG:urllib3.connectionpool:https://api.kite.trade:443 \"POST /orders/regular HTTP/1.1\" 200 None\n",
      "INFO:root:Order placed. ID is: 230221202524014\n"
     ]
    },
    {
     "name": "stdout",
     "output_type": "stream",
     "text": [
      "sellorder\n",
      "count: 25\n",
      "India time: 14:26:04\n"
     ]
    },
    {
     "name": "stderr",
     "output_type": "stream",
     "text": [
      "DEBUG:urllib3.connectionpool:https://api.kite.trade:443 \"GET /quote/ltp?i=NSE%3AIDBI HTTP/1.1\" 200 None\n",
      "DEBUG:urllib3.connectionpool:https://api.kite.trade:443 \"GET /quote/ltp?i=NSE%3AIDBI HTTP/1.1\" 200 None\n",
      "DEBUG:urllib3.connectionpool:https://api.kite.trade:443 \"GET /quote/ltp?i=NSE%3AIDBI HTTP/1.1\" 200 None\n",
      "DEBUG:urllib3.connectionpool:https://api.kite.trade:443 \"GET /quote/ltp?i=NSE%3AIDBI HTTP/1.1\" 200 None\n",
      "DEBUG:urllib3.connectionpool:https://api.kite.trade:443 \"GET /quote/ltp?i=NSE%3AIDBI HTTP/1.1\" 200 None\n",
      "DEBUG:urllib3.connectionpool:https://api.kite.trade:443 \"GET /portfolio/positions HTTP/1.1\" 200 None\n",
      "DEBUG:urllib3.connectionpool:https://api.kite.trade:443 \"GET /portfolio/positions HTTP/1.1\" 200 None\n",
      "DEBUG:urllib3.connectionpool:https://api.kite.trade:443 \"GET /instruments/historical/377857/minute?from=2023-02-07&to=2023-02-21&interval=minute&continuous=0&oi=0 HTTP/1.1\" 200 46667\n",
      "DEBUG:urllib3.connectionpool:https://api.kite.trade:443 \"GET /orders HTTP/1.1\" 200 None\n",
      "DEBUG:urllib3.connectionpool:https://api.kite.trade:443 \"POST /orders/regular HTTP/1.1\" 200 None\n",
      "INFO:root:Order placed. ID is: 230221202537412\n"
     ]
    },
    {
     "name": "stdout",
     "output_type": "stream",
     "text": [
      "Buy order\n",
      "count: 26\n",
      "India time: 14:27:20\n"
     ]
    },
    {
     "name": "stderr",
     "output_type": "stream",
     "text": [
      "DEBUG:urllib3.connectionpool:https://api.kite.trade:443 \"GET /quote/ltp?i=NSE%3AIDBI HTTP/1.1\" 200 None\n",
      "DEBUG:urllib3.connectionpool:https://api.kite.trade:443 \"GET /quote/ltp?i=NSE%3AIDBI HTTP/1.1\" 200 None\n",
      "DEBUG:urllib3.connectionpool:https://api.kite.trade:443 \"GET /quote/ltp?i=NSE%3AIDBI HTTP/1.1\" 200 None\n",
      "DEBUG:urllib3.connectionpool:https://api.kite.trade:443 \"GET /quote/ltp?i=NSE%3AIDBI HTTP/1.1\" 200 None\n",
      "DEBUG:urllib3.connectionpool:https://api.kite.trade:443 \"GET /quote/ltp?i=NSE%3AIDBI HTTP/1.1\" 200 None\n",
      "DEBUG:urllib3.connectionpool:https://api.kite.trade:443 \"GET /portfolio/positions HTTP/1.1\" 200 None\n",
      "DEBUG:urllib3.connectionpool:https://api.kite.trade:443 \"GET /portfolio/positions HTTP/1.1\" 200 None\n",
      "DEBUG:urllib3.connectionpool:https://api.kite.trade:443 \"GET /portfolio/positions HTTP/1.1\" 200 None\n",
      "DEBUG:urllib3.connectionpool:https://api.kite.trade:443 \"GET /portfolio/positions HTTP/1.1\" 200 None\n",
      "DEBUG:urllib3.connectionpool:https://api.kite.trade:443 \"GET /instruments/historical/377857/minute?from=2023-02-07&to=2023-02-21&interval=minute&continuous=0&oi=0 HTTP/1.1\" 200 46679\n",
      "C:\\ProgramData\\Anaconda3\\lib\\site-packages\\sklearn\\base.py:450: UserWarning: X does not have valid feature names, but LinearRegression was fitted with feature names\n",
      "  warnings.warn(\n",
      "DEBUG:urllib3.connectionpool:https://api.kite.trade:443 \"GET /portfolio/positions HTTP/1.1\" 200 None\n",
      "DEBUG:urllib3.connectionpool:https://api.kite.trade:443 \"GET /portfolio/positions HTTP/1.1\" 200 None\n",
      "DEBUG:urllib3.connectionpool:https://api.kite.trade:443 \"POST /orders/regular HTTP/1.1\" 200 None\n",
      "INFO:root:Order placed. ID is: 230221202551211\n"
     ]
    },
    {
     "name": "stdout",
     "output_type": "stream",
     "text": [
      "sellorder\n",
      "count: 27\n",
      "India time: 14:28:37\n"
     ]
    },
    {
     "name": "stderr",
     "output_type": "stream",
     "text": [
      "DEBUG:urllib3.connectionpool:https://api.kite.trade:443 \"GET /quote/ltp?i=NSE%3AIDBI HTTP/1.1\" 200 None\n",
      "DEBUG:urllib3.connectionpool:https://api.kite.trade:443 \"GET /quote/ltp?i=NSE%3AIDBI HTTP/1.1\" 200 None\n",
      "DEBUG:urllib3.connectionpool:https://api.kite.trade:443 \"GET /quote/ltp?i=NSE%3AIDBI HTTP/1.1\" 200 None\n",
      "DEBUG:urllib3.connectionpool:https://api.kite.trade:443 \"GET /quote/ltp?i=NSE%3AIDBI HTTP/1.1\" 200 None\n",
      "DEBUG:urllib3.connectionpool:https://api.kite.trade:443 \"GET /quote/ltp?i=NSE%3AIDBI HTTP/1.1\" 200 None\n",
      "DEBUG:urllib3.connectionpool:https://api.kite.trade:443 \"GET /portfolio/positions HTTP/1.1\" 200 None\n",
      "DEBUG:urllib3.connectionpool:https://api.kite.trade:443 \"GET /portfolio/positions HTTP/1.1\" 200 None\n",
      "DEBUG:urllib3.connectionpool:https://api.kite.trade:443 \"GET /instruments/historical/377857/minute?from=2023-02-07&to=2023-02-21&interval=minute&continuous=0&oi=0 HTTP/1.1\" 200 46688\n",
      "DEBUG:urllib3.connectionpool:https://api.kite.trade:443 \"GET /portfolio/positions HTTP/1.1\" 200 None\n",
      "DEBUG:urllib3.connectionpool:https://api.kite.trade:443 \"GET /portfolio/positions HTTP/1.1\" 200 None\n",
      "DEBUG:urllib3.connectionpool:https://api.kite.trade:443 \"GET /portfolio/positions HTTP/1.1\" 200 None\n",
      "DEBUG:urllib3.connectionpool:https://api.kite.trade:443 \"GET /portfolio/positions HTTP/1.1\" 200 None\n",
      "DEBUG:urllib3.connectionpool:https://api.kite.trade:443 \"GET /portfolio/positions HTTP/1.1\" 200 None\n",
      "DEBUG:urllib3.connectionpool:https://api.kite.trade:443 \"GET /portfolio/positions HTTP/1.1\" 200 None\n"
     ]
    },
    {
     "name": "stdout",
     "output_type": "stream",
     "text": [
      "No trades placed..\n",
      "count: 28\n",
      "India time: 14:29:54\n"
     ]
    },
    {
     "name": "stderr",
     "output_type": "stream",
     "text": [
      "DEBUG:urllib3.connectionpool:https://api.kite.trade:443 \"GET /quote/ltp?i=NSE%3AIDBI HTTP/1.1\" 200 None\n",
      "DEBUG:urllib3.connectionpool:https://api.kite.trade:443 \"GET /quote/ltp?i=NSE%3AIDBI HTTP/1.1\" 200 None\n",
      "DEBUG:urllib3.connectionpool:https://api.kite.trade:443 \"GET /quote/ltp?i=NSE%3AIDBI HTTP/1.1\" 200 None\n",
      "DEBUG:urllib3.connectionpool:https://api.kite.trade:443 \"GET /quote/ltp?i=NSE%3AIDBI HTTP/1.1\" 200 None\n",
      "DEBUG:urllib3.connectionpool:https://api.kite.trade:443 \"GET /quote/ltp?i=NSE%3AIDBI HTTP/1.1\" 200 None\n",
      "DEBUG:urllib3.connectionpool:https://api.kite.trade:443 \"GET /portfolio/positions HTTP/1.1\" 200 None\n",
      "DEBUG:urllib3.connectionpool:https://api.kite.trade:443 \"GET /portfolio/positions HTTP/1.1\" 200 None\n",
      "DEBUG:urllib3.connectionpool:https://api.kite.trade:443 \"GET /instruments/historical/377857/minute?from=2023-02-07&to=2023-02-21&interval=minute&continuous=0&oi=0 HTTP/1.1\" 200 46716\n",
      "DEBUG:urllib3.connectionpool:https://api.kite.trade:443 \"GET /orders HTTP/1.1\" 200 None\n",
      "DEBUG:urllib3.connectionpool:https://api.kite.trade:443 \"POST /orders/regular HTTP/1.1\" 200 None\n",
      "INFO:root:Order placed. ID is: 230221202582144\n"
     ]
    },
    {
     "name": "stdout",
     "output_type": "stream",
     "text": [
      "Buy order\n",
      "count: 29\n",
      "India time: 14:31:10\n"
     ]
    },
    {
     "name": "stderr",
     "output_type": "stream",
     "text": [
      "DEBUG:urllib3.connectionpool:https://api.kite.trade:443 \"GET /quote/ltp?i=NSE%3AIDBI HTTP/1.1\" 200 None\n",
      "DEBUG:urllib3.connectionpool:https://api.kite.trade:443 \"GET /quote/ltp?i=NSE%3AIDBI HTTP/1.1\" 200 None\n",
      "DEBUG:urllib3.connectionpool:https://api.kite.trade:443 \"GET /quote/ltp?i=NSE%3AIDBI HTTP/1.1\" 200 None\n",
      "DEBUG:urllib3.connectionpool:https://api.kite.trade:443 \"GET /quote/ltp?i=NSE%3AIDBI HTTP/1.1\" 200 None\n",
      "DEBUG:urllib3.connectionpool:https://api.kite.trade:443 \"GET /quote/ltp?i=NSE%3AIDBI HTTP/1.1\" 200 None\n",
      "DEBUG:urllib3.connectionpool:https://api.kite.trade:443 \"GET /portfolio/positions HTTP/1.1\" 200 None\n",
      "DEBUG:urllib3.connectionpool:https://api.kite.trade:443 \"GET /portfolio/positions HTTP/1.1\" 200 None\n",
      "DEBUG:urllib3.connectionpool:https://api.kite.trade:443 \"GET /portfolio/positions HTTP/1.1\" 200 None\n",
      "DEBUG:urllib3.connectionpool:https://api.kite.trade:443 \"GET /portfolio/positions HTTP/1.1\" 200 None\n",
      "DEBUG:urllib3.connectionpool:https://api.kite.trade:443 \"GET /instruments/historical/377857/minute?from=2023-02-07&to=2023-02-21&interval=minute&continuous=0&oi=0 HTTP/1.1\" 200 46730\n",
      "C:\\ProgramData\\Anaconda3\\lib\\site-packages\\sklearn\\base.py:450: UserWarning: X does not have valid feature names, but LinearRegression was fitted with feature names\n",
      "  warnings.warn(\n",
      "DEBUG:urllib3.connectionpool:https://api.kite.trade:443 \"GET /portfolio/positions HTTP/1.1\" 200 None\n",
      "DEBUG:urllib3.connectionpool:https://api.kite.trade:443 \"GET /portfolio/positions HTTP/1.1\" 200 None\n",
      "DEBUG:urllib3.connectionpool:https://api.kite.trade:443 \"POST /orders/regular HTTP/1.1\" 200 None\n",
      "INFO:root:Order placed. ID is: 230221202596568\n"
     ]
    },
    {
     "name": "stdout",
     "output_type": "stream",
     "text": [
      "sellorder\n",
      "count: 30\n",
      "India time: 14:32:27\n"
     ]
    },
    {
     "name": "stderr",
     "output_type": "stream",
     "text": [
      "DEBUG:urllib3.connectionpool:https://api.kite.trade:443 \"GET /quote/ltp?i=NSE%3AIDBI HTTP/1.1\" 200 None\n",
      "DEBUG:urllib3.connectionpool:https://api.kite.trade:443 \"GET /quote/ltp?i=NSE%3AIDBI HTTP/1.1\" 200 None\n",
      "DEBUG:urllib3.connectionpool:https://api.kite.trade:443 \"GET /quote/ltp?i=NSE%3AIDBI HTTP/1.1\" 200 None\n",
      "DEBUG:urllib3.connectionpool:https://api.kite.trade:443 \"GET /quote/ltp?i=NSE%3AIDBI HTTP/1.1\" 200 None\n",
      "DEBUG:urllib3.connectionpool:https://api.kite.trade:443 \"GET /quote/ltp?i=NSE%3AIDBI HTTP/1.1\" 200 None\n",
      "DEBUG:urllib3.connectionpool:https://api.kite.trade:443 \"GET /portfolio/positions HTTP/1.1\" 200 None\n",
      "DEBUG:urllib3.connectionpool:https://api.kite.trade:443 \"GET /portfolio/positions HTTP/1.1\" 200 None\n",
      "DEBUG:urllib3.connectionpool:https://api.kite.trade:443 \"GET /instruments/historical/377857/minute?from=2023-02-07&to=2023-02-21&interval=minute&continuous=0&oi=0 HTTP/1.1\" 200 46743\n",
      "DEBUG:urllib3.connectionpool:https://api.kite.trade:443 \"GET /portfolio/positions HTTP/1.1\" 200 None\n",
      "DEBUG:urllib3.connectionpool:https://api.kite.trade:443 \"GET /portfolio/positions HTTP/1.1\" 200 None\n",
      "DEBUG:urllib3.connectionpool:https://api.kite.trade:443 \"GET /portfolio/positions HTTP/1.1\" 200 None\n",
      "DEBUG:urllib3.connectionpool:https://api.kite.trade:443 \"GET /portfolio/positions HTTP/1.1\" 200 None\n",
      "DEBUG:urllib3.connectionpool:https://api.kite.trade:443 \"GET /portfolio/positions HTTP/1.1\" 200 None\n",
      "DEBUG:urllib3.connectionpool:https://api.kite.trade:443 \"GET /portfolio/positions HTTP/1.1\" 200 None\n"
     ]
    },
    {
     "name": "stdout",
     "output_type": "stream",
     "text": [
      "No trades placed..\n",
      "count: 31\n",
      "India time: 14:33:44\n"
     ]
    },
    {
     "name": "stderr",
     "output_type": "stream",
     "text": [
      "DEBUG:urllib3.connectionpool:https://api.kite.trade:443 \"GET /quote/ltp?i=NSE%3AIDBI HTTP/1.1\" 200 None\n",
      "DEBUG:urllib3.connectionpool:https://api.kite.trade:443 \"GET /quote/ltp?i=NSE%3AIDBI HTTP/1.1\" 200 None\n",
      "DEBUG:urllib3.connectionpool:https://api.kite.trade:443 \"GET /quote/ltp?i=NSE%3AIDBI HTTP/1.1\" 200 None\n",
      "DEBUG:urllib3.connectionpool:https://api.kite.trade:443 \"GET /quote/ltp?i=NSE%3AIDBI HTTP/1.1\" 200 None\n",
      "DEBUG:urllib3.connectionpool:https://api.kite.trade:443 \"GET /quote/ltp?i=NSE%3AIDBI HTTP/1.1\" 200 None\n",
      "DEBUG:urllib3.connectionpool:https://api.kite.trade:443 \"GET /portfolio/positions HTTP/1.1\" 200 None\n",
      "DEBUG:urllib3.connectionpool:https://api.kite.trade:443 \"GET /portfolio/positions HTTP/1.1\" 200 None\n",
      "DEBUG:urllib3.connectionpool:https://api.kite.trade:443 \"GET /instruments/historical/377857/minute?from=2023-02-07&to=2023-02-21&interval=minute&continuous=0&oi=0 HTTP/1.1\" 200 46752\n",
      "DEBUG:urllib3.connectionpool:https://api.kite.trade:443 \"GET /orders HTTP/1.1\" 200 None\n",
      "DEBUG:urllib3.connectionpool:https://api.kite.trade:443 \"POST /orders/regular HTTP/1.1\" 200 None\n",
      "INFO:root:Order placed. ID is: 230221202613827\n"
     ]
    },
    {
     "name": "stdout",
     "output_type": "stream",
     "text": [
      "Buy order\n",
      "count: 32\n",
      "India time: 14:35:00\n"
     ]
    },
    {
     "name": "stderr",
     "output_type": "stream",
     "text": [
      "DEBUG:urllib3.connectionpool:https://api.kite.trade:443 \"GET /quote/ltp?i=NSE%3AIDBI HTTP/1.1\" 200 None\n",
      "DEBUG:urllib3.connectionpool:https://api.kite.trade:443 \"GET /quote/ltp?i=NSE%3AIDBI HTTP/1.1\" 200 None\n",
      "DEBUG:urllib3.connectionpool:https://api.kite.trade:443 \"GET /quote/ltp?i=NSE%3AIDBI HTTP/1.1\" 200 None\n",
      "DEBUG:urllib3.connectionpool:https://api.kite.trade:443 \"GET /quote/ltp?i=NSE%3AIDBI HTTP/1.1\" 200 None\n",
      "DEBUG:urllib3.connectionpool:https://api.kite.trade:443 \"GET /quote/ltp?i=NSE%3AIDBI HTTP/1.1\" 200 None\n",
      "DEBUG:urllib3.connectionpool:https://api.kite.trade:443 \"GET /portfolio/positions HTTP/1.1\" 200 None\n",
      "DEBUG:urllib3.connectionpool:https://api.kite.trade:443 \"GET /portfolio/positions HTTP/1.1\" 200 None\n",
      "DEBUG:urllib3.connectionpool:https://api.kite.trade:443 \"GET /portfolio/positions HTTP/1.1\" 200 None\n",
      "DEBUG:urllib3.connectionpool:https://api.kite.trade:443 \"GET /portfolio/positions HTTP/1.1\" 200 None\n",
      "DEBUG:urllib3.connectionpool:https://api.kite.trade:443 \"GET /instruments/historical/377857/minute?from=2023-02-07&to=2023-02-21&interval=minute&continuous=0&oi=0 HTTP/1.1\" 200 46776\n",
      "C:\\ProgramData\\Anaconda3\\lib\\site-packages\\sklearn\\base.py:450: UserWarning: X does not have valid feature names, but LinearRegression was fitted with feature names\n",
      "  warnings.warn(\n",
      "DEBUG:urllib3.connectionpool:https://api.kite.trade:443 \"GET /portfolio/positions HTTP/1.1\" 200 None\n"
     ]
    },
    {
     "name": "stdout",
     "output_type": "stream",
     "text": [
      "Hold\n",
      "count: 33\n",
      "India time: 14:36:17\n"
     ]
    },
    {
     "name": "stderr",
     "output_type": "stream",
     "text": [
      "DEBUG:urllib3.connectionpool:https://api.kite.trade:443 \"GET /quote/ltp?i=NSE%3AIDBI HTTP/1.1\" 200 None\n",
      "DEBUG:urllib3.connectionpool:https://api.kite.trade:443 \"GET /quote/ltp?i=NSE%3AIDBI HTTP/1.1\" 200 None\n",
      "DEBUG:urllib3.connectionpool:https://api.kite.trade:443 \"GET /quote/ltp?i=NSE%3AIDBI HTTP/1.1\" 200 None\n",
      "DEBUG:urllib3.connectionpool:https://api.kite.trade:443 \"GET /quote/ltp?i=NSE%3AIDBI HTTP/1.1\" 200 None\n",
      "DEBUG:urllib3.connectionpool:https://api.kite.trade:443 \"GET /quote/ltp?i=NSE%3AIDBI HTTP/1.1\" 200 None\n",
      "DEBUG:urllib3.connectionpool:https://api.kite.trade:443 \"GET /portfolio/positions HTTP/1.1\" 200 None\n",
      "DEBUG:urllib3.connectionpool:https://api.kite.trade:443 \"GET /portfolio/positions HTTP/1.1\" 200 None\n",
      "DEBUG:urllib3.connectionpool:https://api.kite.trade:443 \"GET /portfolio/positions HTTP/1.1\" 200 None\n",
      "DEBUG:urllib3.connectionpool:https://api.kite.trade:443 \"GET /portfolio/positions HTTP/1.1\" 200 None\n",
      "DEBUG:urllib3.connectionpool:https://api.kite.trade:443 \"GET /instruments/historical/377857/minute?from=2023-02-07&to=2023-02-21&interval=minute&continuous=0&oi=0 HTTP/1.1\" 200 46789\n",
      "C:\\ProgramData\\Anaconda3\\lib\\site-packages\\sklearn\\base.py:450: UserWarning: X does not have valid feature names, but LinearRegression was fitted with feature names\n",
      "  warnings.warn(\n",
      "DEBUG:urllib3.connectionpool:https://api.kite.trade:443 \"GET /portfolio/positions HTTP/1.1\" 200 None\n",
      "DEBUG:urllib3.connectionpool:https://api.kite.trade:443 \"GET /portfolio/positions HTTP/1.1\" 200 None\n",
      "DEBUG:urllib3.connectionpool:https://api.kite.trade:443 \"POST /orders/regular HTTP/1.1\" 200 None\n",
      "INFO:root:Order placed. ID is: 230221202632479\n"
     ]
    },
    {
     "name": "stdout",
     "output_type": "stream",
     "text": [
      "sellorder\n",
      "count: 34\n",
      "India time: 14:37:34\n"
     ]
    },
    {
     "name": "stderr",
     "output_type": "stream",
     "text": [
      "DEBUG:urllib3.connectionpool:https://api.kite.trade:443 \"GET /quote/ltp?i=NSE%3AIDBI HTTP/1.1\" 200 None\n",
      "DEBUG:urllib3.connectionpool:https://api.kite.trade:443 \"GET /quote/ltp?i=NSE%3AIDBI HTTP/1.1\" 200 None\n",
      "DEBUG:urllib3.connectionpool:https://api.kite.trade:443 \"GET /quote/ltp?i=NSE%3AIDBI HTTP/1.1\" 200 None\n",
      "DEBUG:urllib3.connectionpool:https://api.kite.trade:443 \"GET /quote/ltp?i=NSE%3AIDBI HTTP/1.1\" 200 None\n",
      "DEBUG:urllib3.connectionpool:https://api.kite.trade:443 \"GET /quote/ltp?i=NSE%3AIDBI HTTP/1.1\" 200 None\n",
      "DEBUG:urllib3.connectionpool:https://api.kite.trade:443 \"GET /portfolio/positions HTTP/1.1\" 200 None\n",
      "DEBUG:urllib3.connectionpool:https://api.kite.trade:443 \"GET /portfolio/positions HTTP/1.1\" 200 None\n",
      "DEBUG:urllib3.connectionpool:https://api.kite.trade:443 \"GET /instruments/historical/377857/minute?from=2023-02-07&to=2023-02-21&interval=minute&continuous=0&oi=0 HTTP/1.1\" 200 46799\n",
      "DEBUG:urllib3.connectionpool:https://api.kite.trade:443 \"GET /portfolio/positions HTTP/1.1\" 200 None\n",
      "DEBUG:urllib3.connectionpool:https://api.kite.trade:443 \"GET /portfolio/positions HTTP/1.1\" 200 None\n",
      "DEBUG:urllib3.connectionpool:https://api.kite.trade:443 \"GET /portfolio/positions HTTP/1.1\" 200 None\n",
      "DEBUG:urllib3.connectionpool:https://api.kite.trade:443 \"GET /portfolio/positions HTTP/1.1\" 200 None\n",
      "DEBUG:urllib3.connectionpool:https://api.kite.trade:443 \"GET /portfolio/positions HTTP/1.1\" 200 None\n",
      "DEBUG:urllib3.connectionpool:https://api.kite.trade:443 \"GET /portfolio/positions HTTP/1.1\" 200 None\n"
     ]
    },
    {
     "name": "stdout",
     "output_type": "stream",
     "text": [
      "No trades placed..\n",
      "count: 35\n",
      "India time: 14:38:51\n"
     ]
    },
    {
     "name": "stderr",
     "output_type": "stream",
     "text": [
      "DEBUG:urllib3.connectionpool:https://api.kite.trade:443 \"GET /quote/ltp?i=NSE%3AIDBI HTTP/1.1\" 200 None\n",
      "DEBUG:urllib3.connectionpool:https://api.kite.trade:443 \"GET /quote/ltp?i=NSE%3AIDBI HTTP/1.1\" 200 None\n",
      "DEBUG:urllib3.connectionpool:https://api.kite.trade:443 \"GET /quote/ltp?i=NSE%3AIDBI HTTP/1.1\" 200 None\n",
      "DEBUG:urllib3.connectionpool:https://api.kite.trade:443 \"GET /quote/ltp?i=NSE%3AIDBI HTTP/1.1\" 200 None\n",
      "DEBUG:urllib3.connectionpool:https://api.kite.trade:443 \"GET /quote/ltp?i=NSE%3AIDBI HTTP/1.1\" 200 None\n",
      "DEBUG:urllib3.connectionpool:https://api.kite.trade:443 \"GET /portfolio/positions HTTP/1.1\" 200 None\n",
      "DEBUG:urllib3.connectionpool:https://api.kite.trade:443 \"GET /portfolio/positions HTTP/1.1\" 200 None\n",
      "DEBUG:urllib3.connectionpool:https://api.kite.trade:443 \"GET /instruments/historical/377857/minute?from=2023-02-07&to=2023-02-21&interval=minute&continuous=0&oi=0 HTTP/1.1\" 200 46821\n",
      "DEBUG:urllib3.connectionpool:https://api.kite.trade:443 \"GET /orders HTTP/1.1\" 200 None\n",
      "DEBUG:urllib3.connectionpool:https://api.kite.trade:443 \"POST /orders/regular HTTP/1.1\" 200 None\n",
      "INFO:root:Order placed. ID is: 230221202647762\n"
     ]
    },
    {
     "name": "stdout",
     "output_type": "stream",
     "text": [
      "Buy order\n",
      "count: 36\n",
      "India time: 14:40:07\n"
     ]
    },
    {
     "name": "stderr",
     "output_type": "stream",
     "text": [
      "DEBUG:urllib3.connectionpool:https://api.kite.trade:443 \"GET /quote/ltp?i=NSE%3AIDBI HTTP/1.1\" 200 None\n",
      "DEBUG:urllib3.connectionpool:https://api.kite.trade:443 \"GET /quote/ltp?i=NSE%3AIDBI HTTP/1.1\" 200 None\n",
      "DEBUG:urllib3.connectionpool:https://api.kite.trade:443 \"GET /quote/ltp?i=NSE%3AIDBI HTTP/1.1\" 200 None\n",
      "DEBUG:urllib3.connectionpool:https://api.kite.trade:443 \"GET /quote/ltp?i=NSE%3AIDBI HTTP/1.1\" 200 None\n",
      "DEBUG:urllib3.connectionpool:https://api.kite.trade:443 \"GET /quote/ltp?i=NSE%3AIDBI HTTP/1.1\" 200 None\n",
      "DEBUG:urllib3.connectionpool:https://api.kite.trade:443 \"GET /portfolio/positions HTTP/1.1\" 200 None\n",
      "DEBUG:urllib3.connectionpool:https://api.kite.trade:443 \"GET /portfolio/positions HTTP/1.1\" 200 None\n",
      "DEBUG:urllib3.connectionpool:https://api.kite.trade:443 \"GET /portfolio/positions HTTP/1.1\" 200 None\n",
      "DEBUG:urllib3.connectionpool:https://api.kite.trade:443 \"GET /portfolio/positions HTTP/1.1\" 200 None\n",
      "DEBUG:urllib3.connectionpool:https://api.kite.trade:443 \"GET /instruments/historical/377857/minute?from=2023-02-07&to=2023-02-21&interval=minute&continuous=0&oi=0 HTTP/1.1\" 200 46831\n",
      "C:\\ProgramData\\Anaconda3\\lib\\site-packages\\sklearn\\base.py:450: UserWarning: X does not have valid feature names, but LinearRegression was fitted with feature names\n",
      "  warnings.warn(\n",
      "DEBUG:urllib3.connectionpool:https://api.kite.trade:443 \"GET /portfolio/positions HTTP/1.1\" 200 None\n",
      "DEBUG:urllib3.connectionpool:https://api.kite.trade:443 \"GET /portfolio/positions HTTP/1.1\" 200 None\n",
      "DEBUG:urllib3.connectionpool:https://api.kite.trade:443 \"POST /orders/regular HTTP/1.1\" 200 None\n",
      "INFO:root:Order placed. ID is: 230221202656162\n"
     ]
    },
    {
     "name": "stdout",
     "output_type": "stream",
     "text": [
      "sellorder\n",
      "count: 37\n",
      "India time: 14:41:24\n"
     ]
    },
    {
     "name": "stderr",
     "output_type": "stream",
     "text": [
      "DEBUG:urllib3.connectionpool:https://api.kite.trade:443 \"GET /quote/ltp?i=NSE%3AIDBI HTTP/1.1\" 200 None\n",
      "DEBUG:urllib3.connectionpool:https://api.kite.trade:443 \"GET /quote/ltp?i=NSE%3AIDBI HTTP/1.1\" 200 None\n",
      "DEBUG:urllib3.connectionpool:https://api.kite.trade:443 \"GET /quote/ltp?i=NSE%3AIDBI HTTP/1.1\" 200 None\n",
      "DEBUG:urllib3.connectionpool:https://api.kite.trade:443 \"GET /quote/ltp?i=NSE%3AIDBI HTTP/1.1\" 200 None\n",
      "DEBUG:urllib3.connectionpool:https://api.kite.trade:443 \"GET /quote/ltp?i=NSE%3AIDBI HTTP/1.1\" 200 None\n",
      "DEBUG:urllib3.connectionpool:https://api.kite.trade:443 \"GET /portfolio/positions HTTP/1.1\" 200 None\n",
      "DEBUG:urllib3.connectionpool:https://api.kite.trade:443 \"GET /portfolio/positions HTTP/1.1\" 200 None\n",
      "DEBUG:urllib3.connectionpool:https://api.kite.trade:443 \"GET /instruments/historical/377857/minute?from=2023-02-07&to=2023-02-21&interval=minute&continuous=0&oi=0 HTTP/1.1\" 200 46840\n",
      "DEBUG:urllib3.connectionpool:https://api.kite.trade:443 \"GET /portfolio/positions HTTP/1.1\" 200 None\n",
      "DEBUG:urllib3.connectionpool:https://api.kite.trade:443 \"GET /portfolio/positions HTTP/1.1\" 200 None\n",
      "DEBUG:urllib3.connectionpool:https://api.kite.trade:443 \"GET /portfolio/positions HTTP/1.1\" 200 None\n",
      "DEBUG:urllib3.connectionpool:https://api.kite.trade:443 \"GET /portfolio/positions HTTP/1.1\" 200 None\n",
      "DEBUG:urllib3.connectionpool:https://api.kite.trade:443 \"GET /portfolio/positions HTTP/1.1\" 200 None\n",
      "DEBUG:urllib3.connectionpool:https://api.kite.trade:443 \"GET /portfolio/positions HTTP/1.1\" 200 None\n"
     ]
    },
    {
     "name": "stdout",
     "output_type": "stream",
     "text": [
      "No trades placed..\n",
      "count: 38\n",
      "India time: 14:42:41\n"
     ]
    },
    {
     "name": "stderr",
     "output_type": "stream",
     "text": [
      "DEBUG:urllib3.connectionpool:https://api.kite.trade:443 \"GET /quote/ltp?i=NSE%3AIDBI HTTP/1.1\" 200 None\n",
      "DEBUG:urllib3.connectionpool:https://api.kite.trade:443 \"GET /quote/ltp?i=NSE%3AIDBI HTTP/1.1\" 200 None\n",
      "DEBUG:urllib3.connectionpool:https://api.kite.trade:443 \"GET /quote/ltp?i=NSE%3AIDBI HTTP/1.1\" 200 None\n",
      "DEBUG:urllib3.connectionpool:https://api.kite.trade:443 \"GET /quote/ltp?i=NSE%3AIDBI HTTP/1.1\" 200 None\n",
      "DEBUG:urllib3.connectionpool:https://api.kite.trade:443 \"GET /quote/ltp?i=NSE%3AIDBI HTTP/1.1\" 200 None\n",
      "DEBUG:urllib3.connectionpool:https://api.kite.trade:443 \"GET /portfolio/positions HTTP/1.1\" 200 None\n",
      "DEBUG:urllib3.connectionpool:https://api.kite.trade:443 \"GET /portfolio/positions HTTP/1.1\" 200 None\n",
      "DEBUG:urllib3.connectionpool:https://api.kite.trade:443 \"GET /instruments/historical/377857/minute?from=2023-02-07&to=2023-02-21&interval=minute&continuous=0&oi=0 HTTP/1.1\" 200 46855\n",
      "DEBUG:urllib3.connectionpool:https://api.kite.trade:443 \"GET /portfolio/positions HTTP/1.1\" 200 None\n",
      "DEBUG:urllib3.connectionpool:https://api.kite.trade:443 \"GET /portfolio/positions HTTP/1.1\" 200 None\n",
      "DEBUG:urllib3.connectionpool:https://api.kite.trade:443 \"GET /portfolio/positions HTTP/1.1\" 200 None\n",
      "DEBUG:urllib3.connectionpool:https://api.kite.trade:443 \"GET /portfolio/positions HTTP/1.1\" 200 None\n",
      "DEBUG:urllib3.connectionpool:https://api.kite.trade:443 \"GET /portfolio/positions HTTP/1.1\" 200 None\n",
      "DEBUG:urllib3.connectionpool:https://api.kite.trade:443 \"GET /portfolio/positions HTTP/1.1\" 200 None\n"
     ]
    },
    {
     "name": "stdout",
     "output_type": "stream",
     "text": [
      "No trades placed..\n",
      "count: 39\n",
      "India time: 14:43:58\n"
     ]
    },
    {
     "name": "stderr",
     "output_type": "stream",
     "text": [
      "DEBUG:urllib3.connectionpool:https://api.kite.trade:443 \"GET /quote/ltp?i=NSE%3AIDBI HTTP/1.1\" 200 None\n",
      "DEBUG:urllib3.connectionpool:https://api.kite.trade:443 \"GET /quote/ltp?i=NSE%3AIDBI HTTP/1.1\" 200 None\n",
      "DEBUG:urllib3.connectionpool:https://api.kite.trade:443 \"GET /quote/ltp?i=NSE%3AIDBI HTTP/1.1\" 200 None\n",
      "DEBUG:urllib3.connectionpool:https://api.kite.trade:443 \"GET /quote/ltp?i=NSE%3AIDBI HTTP/1.1\" 200 None\n",
      "DEBUG:urllib3.connectionpool:https://api.kite.trade:443 \"GET /quote/ltp?i=NSE%3AIDBI HTTP/1.1\" 200 None\n",
      "DEBUG:urllib3.connectionpool:https://api.kite.trade:443 \"GET /portfolio/positions HTTP/1.1\" 200 None\n",
      "DEBUG:urllib3.connectionpool:https://api.kite.trade:443 \"GET /portfolio/positions HTTP/1.1\" 200 None\n",
      "DEBUG:urllib3.connectionpool:https://api.kite.trade:443 \"GET /instruments/historical/377857/minute?from=2023-02-07&to=2023-02-21&interval=minute&continuous=0&oi=0 HTTP/1.1\" 200 46877\n",
      "DEBUG:urllib3.connectionpool:https://api.kite.trade:443 \"GET /portfolio/positions HTTP/1.1\" 200 None\n",
      "DEBUG:urllib3.connectionpool:https://api.kite.trade:443 \"GET /portfolio/positions HTTP/1.1\" 200 None\n",
      "DEBUG:urllib3.connectionpool:https://api.kite.trade:443 \"GET /portfolio/positions HTTP/1.1\" 200 None\n",
      "DEBUG:urllib3.connectionpool:https://api.kite.trade:443 \"GET /portfolio/positions HTTP/1.1\" 200 None\n",
      "DEBUG:urllib3.connectionpool:https://api.kite.trade:443 \"GET /portfolio/positions HTTP/1.1\" 200 None\n",
      "DEBUG:urllib3.connectionpool:https://api.kite.trade:443 \"GET /portfolio/positions HTTP/1.1\" 200 None\n"
     ]
    },
    {
     "name": "stdout",
     "output_type": "stream",
     "text": [
      "No trades placed..\n",
      "count: 40\n",
      "India time: 14:45:15\n"
     ]
    },
    {
     "name": "stderr",
     "output_type": "stream",
     "text": [
      "DEBUG:urllib3.connectionpool:https://api.kite.trade:443 \"GET /quote/ltp?i=NSE%3AIDBI HTTP/1.1\" 200 None\n",
      "DEBUG:urllib3.connectionpool:https://api.kite.trade:443 \"GET /quote/ltp?i=NSE%3AIDBI HTTP/1.1\" 200 None\n",
      "DEBUG:urllib3.connectionpool:https://api.kite.trade:443 \"GET /quote/ltp?i=NSE%3AIDBI HTTP/1.1\" 200 None\n",
      "DEBUG:urllib3.connectionpool:https://api.kite.trade:443 \"GET /quote/ltp?i=NSE%3AIDBI HTTP/1.1\" 200 None\n",
      "DEBUG:urllib3.connectionpool:https://api.kite.trade:443 \"GET /quote/ltp?i=NSE%3AIDBI HTTP/1.1\" 200 None\n",
      "DEBUG:urllib3.connectionpool:https://api.kite.trade:443 \"GET /portfolio/positions HTTP/1.1\" 200 None\n",
      "DEBUG:urllib3.connectionpool:https://api.kite.trade:443 \"GET /portfolio/positions HTTP/1.1\" 200 None\n",
      "DEBUG:urllib3.connectionpool:https://api.kite.trade:443 \"GET /instruments/historical/377857/minute?from=2023-02-07&to=2023-02-21&interval=minute&continuous=0&oi=0 HTTP/1.1\" 200 46889\n",
      "DEBUG:urllib3.connectionpool:https://api.kite.trade:443 \"GET /orders HTTP/1.1\" 200 None\n",
      "DEBUG:urllib3.connectionpool:https://api.kite.trade:443 \"POST /orders/regular HTTP/1.1\" 200 None\n",
      "INFO:root:Order placed. ID is: 230221202708912\n"
     ]
    },
    {
     "name": "stdout",
     "output_type": "stream",
     "text": [
      "Buy order\n",
      "count: 41\n",
      "India time: 14:46:31\n"
     ]
    },
    {
     "name": "stderr",
     "output_type": "stream",
     "text": [
      "DEBUG:urllib3.connectionpool:https://api.kite.trade:443 \"GET /quote/ltp?i=NSE%3AIDBI HTTP/1.1\" 200 None\n",
      "DEBUG:urllib3.connectionpool:https://api.kite.trade:443 \"GET /quote/ltp?i=NSE%3AIDBI HTTP/1.1\" 200 None\n",
      "DEBUG:urllib3.connectionpool:https://api.kite.trade:443 \"GET /quote/ltp?i=NSE%3AIDBI HTTP/1.1\" 200 None\n",
      "DEBUG:urllib3.connectionpool:https://api.kite.trade:443 \"GET /quote/ltp?i=NSE%3AIDBI HTTP/1.1\" 200 None\n",
      "DEBUG:urllib3.connectionpool:https://api.kite.trade:443 \"GET /quote/ltp?i=NSE%3AIDBI HTTP/1.1\" 200 None\n",
      "DEBUG:urllib3.connectionpool:https://api.kite.trade:443 \"GET /portfolio/positions HTTP/1.1\" 200 None\n",
      "DEBUG:urllib3.connectionpool:https://api.kite.trade:443 \"GET /portfolio/positions HTTP/1.1\" 200 None\n",
      "DEBUG:urllib3.connectionpool:https://api.kite.trade:443 \"GET /portfolio/positions HTTP/1.1\" 200 None\n",
      "DEBUG:urllib3.connectionpool:https://api.kite.trade:443 \"GET /portfolio/positions HTTP/1.1\" 200 None\n",
      "DEBUG:urllib3.connectionpool:https://api.kite.trade:443 \"GET /instruments/historical/377857/minute?from=2023-02-07&to=2023-02-21&interval=minute&continuous=0&oi=0 HTTP/1.1\" 200 46897\n",
      "C:\\ProgramData\\Anaconda3\\lib\\site-packages\\sklearn\\base.py:450: UserWarning: X does not have valid feature names, but LinearRegression was fitted with feature names\n",
      "  warnings.warn(\n",
      "DEBUG:urllib3.connectionpool:https://api.kite.trade:443 \"GET /portfolio/positions HTTP/1.1\" 200 None\n",
      "DEBUG:urllib3.connectionpool:https://api.kite.trade:443 \"GET /portfolio/positions HTTP/1.1\" 200 None\n",
      "DEBUG:urllib3.connectionpool:https://api.kite.trade:443 \"POST /orders/regular HTTP/1.1\" 200 None\n",
      "INFO:root:Order placed. ID is: 230221202722254\n"
     ]
    },
    {
     "name": "stdout",
     "output_type": "stream",
     "text": [
      "sellorder\n",
      "count: 42\n",
      "India time: 14:47:48\n"
     ]
    },
    {
     "name": "stderr",
     "output_type": "stream",
     "text": [
      "DEBUG:urllib3.connectionpool:https://api.kite.trade:443 \"GET /quote/ltp?i=NSE%3AIDBI HTTP/1.1\" 200 None\n",
      "DEBUG:urllib3.connectionpool:https://api.kite.trade:443 \"GET /quote/ltp?i=NSE%3AIDBI HTTP/1.1\" 200 None\n",
      "DEBUG:urllib3.connectionpool:https://api.kite.trade:443 \"GET /quote/ltp?i=NSE%3AIDBI HTTP/1.1\" 200 None\n",
      "DEBUG:urllib3.connectionpool:https://api.kite.trade:443 \"GET /quote/ltp?i=NSE%3AIDBI HTTP/1.1\" 200 None\n",
      "DEBUG:urllib3.connectionpool:https://api.kite.trade:443 \"GET /quote/ltp?i=NSE%3AIDBI HTTP/1.1\" 200 None\n",
      "DEBUG:urllib3.connectionpool:https://api.kite.trade:443 \"GET /portfolio/positions HTTP/1.1\" 200 None\n",
      "DEBUG:urllib3.connectionpool:https://api.kite.trade:443 \"GET /portfolio/positions HTTP/1.1\" 200 None\n",
      "DEBUG:urllib3.connectionpool:https://api.kite.trade:443 \"GET /instruments/historical/377857/minute?from=2023-02-07&to=2023-02-21&interval=minute&continuous=0&oi=0 HTTP/1.1\" 200 46913\n",
      "DEBUG:urllib3.connectionpool:https://api.kite.trade:443 \"GET /portfolio/positions HTTP/1.1\" 200 None\n",
      "DEBUG:urllib3.connectionpool:https://api.kite.trade:443 \"GET /portfolio/positions HTTP/1.1\" 200 None\n",
      "DEBUG:urllib3.connectionpool:https://api.kite.trade:443 \"GET /portfolio/positions HTTP/1.1\" 200 None\n",
      "DEBUG:urllib3.connectionpool:https://api.kite.trade:443 \"GET /portfolio/positions HTTP/1.1\" 200 None\n",
      "DEBUG:urllib3.connectionpool:https://api.kite.trade:443 \"GET /portfolio/positions HTTP/1.1\" 200 None\n",
      "DEBUG:urllib3.connectionpool:https://api.kite.trade:443 \"GET /portfolio/positions HTTP/1.1\" 200 None\n"
     ]
    },
    {
     "name": "stdout",
     "output_type": "stream",
     "text": [
      "No trades placed..\n",
      "count: 43\n",
      "India time: 14:49:05\n"
     ]
    },
    {
     "name": "stderr",
     "output_type": "stream",
     "text": [
      "DEBUG:urllib3.connectionpool:https://api.kite.trade:443 \"GET /quote/ltp?i=NSE%3AIDBI HTTP/1.1\" 200 None\n",
      "DEBUG:urllib3.connectionpool:https://api.kite.trade:443 \"GET /quote/ltp?i=NSE%3AIDBI HTTP/1.1\" 200 None\n",
      "DEBUG:urllib3.connectionpool:https://api.kite.trade:443 \"GET /quote/ltp?i=NSE%3AIDBI HTTP/1.1\" 200 None\n",
      "DEBUG:urllib3.connectionpool:https://api.kite.trade:443 \"GET /quote/ltp?i=NSE%3AIDBI HTTP/1.1\" 200 None\n",
      "DEBUG:urllib3.connectionpool:https://api.kite.trade:443 \"GET /quote/ltp?i=NSE%3AIDBI HTTP/1.1\" 200 None\n",
      "DEBUG:urllib3.connectionpool:https://api.kite.trade:443 \"GET /portfolio/positions HTTP/1.1\" 200 None\n",
      "DEBUG:urllib3.connectionpool:https://api.kite.trade:443 \"GET /portfolio/positions HTTP/1.1\" 200 None\n",
      "DEBUG:urllib3.connectionpool:https://api.kite.trade:443 \"GET /instruments/historical/377857/minute?from=2023-02-07&to=2023-02-21&interval=minute&continuous=0&oi=0 HTTP/1.1\" 200 46926\n",
      "DEBUG:urllib3.connectionpool:https://api.kite.trade:443 \"GET /portfolio/positions HTTP/1.1\" 200 None\n",
      "DEBUG:urllib3.connectionpool:https://api.kite.trade:443 \"GET /portfolio/positions HTTP/1.1\" 200 None\n",
      "DEBUG:urllib3.connectionpool:https://api.kite.trade:443 \"GET /portfolio/positions HTTP/1.1\" 200 None\n",
      "DEBUG:urllib3.connectionpool:https://api.kite.trade:443 \"GET /portfolio/positions HTTP/1.1\" 200 None\n",
      "DEBUG:urllib3.connectionpool:https://api.kite.trade:443 \"GET /portfolio/positions HTTP/1.1\" 200 None\n",
      "DEBUG:urllib3.connectionpool:https://api.kite.trade:443 \"GET /portfolio/positions HTTP/1.1\" 200 None\n"
     ]
    },
    {
     "name": "stdout",
     "output_type": "stream",
     "text": [
      "No trades placed..\n",
      "count: 44\n",
      "India time: 14:50:22\n"
     ]
    },
    {
     "ename": "KeyboardInterrupt",
     "evalue": "",
     "output_type": "error",
     "traceback": [
      "\u001b[1;31m---------------------------------------------------------------------------\u001b[0m",
      "\u001b[1;31mKeyboardInterrupt\u001b[0m                         Traceback (most recent call last)",
      "\u001b[1;32m~\\AppData\\Local\\Temp\\ipykernel_15592\\1066639247.py\u001b[0m in \u001b[0;36m<module>\u001b[1;34m\u001b[0m\n\u001b[0;32m     26\u001b[0m     \u001b[0mprint\u001b[0m\u001b[1;33m(\u001b[0m\u001b[1;34m'count:'\u001b[0m\u001b[1;33m,\u001b[0m \u001b[0mcount\u001b[0m\u001b[1;33m)\u001b[0m\u001b[1;33m\u001b[0m\u001b[1;33m\u001b[0m\u001b[0m\n\u001b[0;32m     27\u001b[0m     \u001b[0mptime\u001b[0m\u001b[1;33m(\u001b[0m\u001b[1;33m)\u001b[0m\u001b[1;33m\u001b[0m\u001b[1;33m\u001b[0m\u001b[0m\n\u001b[1;32m---> 28\u001b[1;33m     \u001b[0mtime\u001b[0m\u001b[1;33m.\u001b[0m\u001b[0msleep\u001b[0m\u001b[1;33m(\u001b[0m\u001b[1;36m60\u001b[0m\u001b[1;33m)\u001b[0m\u001b[1;33m\u001b[0m\u001b[1;33m\u001b[0m\u001b[0m\n\u001b[0m",
      "\u001b[1;31mKeyboardInterrupt\u001b[0m: "
     ]
    }
   ],
   "source": [
    "while bid()=='positive':\n",
    "    count=(0)\n",
    "    for i in range(60):\n",
    "        ltp_ma=LTP_MA()\n",
    "        if pqty()==0 and pnl ()>-15 and ltp_ma>Last_close() and Order_Status()=='COMPLETE':\n",
    "                buyorder()\n",
    "                print(\"Buy order\")\n",
    "        elif pqty()==qty and ltp_ma>0.10+buyprice():\n",
    "                sellorder()\n",
    "                print(\"sellorder-profit achieved\")\n",
    "        elif pqty()==qty and ltp_ma>predicted_price() and ltp_ma<0.10+buyprice():\n",
    "                print(\"Hold\")      \n",
    "        elif pqty()==qty and ltp_ma<buyprice()-0.10:\n",
    "                sellorder()\n",
    "                print(\"sellorder\")\n",
    "        elif pqty()==qty and pnl ()<=-15:\n",
    "                sellorder()\n",
    "                print(\"sellorder-PNL<=0\")\n",
    "        elif pqty()==0 and pnl ()<=-15:\n",
    "                print(\"Close for the day-PNL<=0\")\n",
    "\n",
    "        else:\n",
    "                print(\"No trades placed..\")\n",
    "\n",
    "        \n",
    "        count+=1\n",
    "        print('count:', count)\n",
    "        ptime()\n",
    "    time.sleep(60)\n"
   ]
  }
 ],
 "metadata": {
  "kernelspec": {
   "display_name": "Python 3 (ipykernel)",
   "language": "python",
   "name": "python3"
  },
  "language_info": {
   "codemirror_mode": {
    "name": "ipython",
    "version": 3
   },
   "file_extension": ".py",
   "mimetype": "text/x-python",
   "name": "python",
   "nbconvert_exporter": "python",
   "pygments_lexer": "ipython3",
   "version": "3.9.13"
  }
 },
 "nbformat": 4,
 "nbformat_minor": 5
}
